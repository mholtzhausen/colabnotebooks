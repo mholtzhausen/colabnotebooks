{
  "nbformat": 4,
  "nbformat_minor": 0,
  "metadata": {
    "colab": {
      "provenance": [],
      "authorship_tag": "ABX9TyPxFyF20F58TppRRvbt5Nt8",
      "include_colab_link": true
    },
    "kernelspec": {
      "name": "python3",
      "display_name": "Python 3"
    },
    "language_info": {
      "name": "python"
    }
  },
  "cells": [
    {
      "cell_type": "markdown",
      "metadata": {
        "id": "view-in-github",
        "colab_type": "text"
      },
      "source": [
        "<a href=\"https://colab.research.google.com/github/mholtzhausen/colabnotebooks/blob/dev/Kokoro.ipynb\" target=\"_parent\"><img src=\"https://colab.research.google.com/assets/colab-badge.svg\" alt=\"Open In Colab\"/></a>"
      ]
    },
    {
      "cell_type": "code",
      "execution_count": null,
      "metadata": {
        "id": "w4Nx3xHco49V"
      },
      "outputs": [],
      "source": [
        "# 1️⃣ Install kokoro\n",
        "!pip install -q kokoro>=0.8.4 soundfile\n",
        "# 2️⃣ Install espeak, used for English OOD fallback and some non-English languages\n",
        "!apt-get -qq -y install espeak-ng > /dev/null 2>&1\n",
        "# 🇪🇸 'e' => Spanish es\n",
        "# 🇫🇷 'f' => French fr-fr\n",
        "# 🇮🇳 'h' => Hindi hi\n",
        "# 🇮🇹 'i' => Italian it\n",
        "# 🇧🇷 'p' => Brazilian Portuguese pt-br\n",
        "\n",
        "# 3️⃣ Initalize a pipeline\n",
        "from kokoro import KPipeline\n",
        "from IPython.display import display, Audio\n",
        "import soundfile as sf\n",
        "import torch\n",
        "# 🇺🇸 'a' => American English, 🇬🇧 'b' => British English\n",
        "# 🇯🇵 'j' => Japanese: pip install misaki[ja]\n",
        "# 🇨🇳 'z' => Mandarin Chinese: pip install misaki[zh]\n",
        "pipeline = KPipeline(lang_code='a') # <= make sure lang_code matches voice\n",
        "\n",
        "# This text is for demonstration purposes only, unseen during training\n",
        "text = '''\n",
        "The sky above the port was the color of television, tuned to a dead channel.\n",
        "\"It's not like I'm using,\" Case heard someone say, as he shouldered his way through the crowd around the door of the Chat. \"It's like my body's developed this massive drug deficiency.\"\n",
        "It was a Sprawl voice and a Sprawl joke. The Chatsubo was a bar for professional expatriates; you could drink there for a week and never hear two words in Japanese.\n",
        "\n",
        "These were to have an enormous impact, not only because they were associated with Constantine, but also because, as in so many other areas, the decisions taken by Constantine (or in his name) were to have great significance for centuries to come. One of the main issues was the shape that Christian churches were to take, since there was not, apparently, a tradition of monumental church buildings when Constantine decided to help the Christian church build a series of truly spectacular structures. The main form that these churches took was that of the basilica, a multipurpose rectangular structure, based ultimately on the earlier Greek stoa, which could be found in most of the great cities of the empire. Christianity, unlike classical polytheism, needed a large interior space for the celebration of its religious services, and the basilica aptly filled that need. We naturally do not know the degree to which the emperor was involved in the design of new churches, but it is tempting to connect this with the secular basilica that Constantine completed in the Roman forum (the so-called Basilica of Maxentius) and the one he probably built in Trier, in connection with his residence in the city at a time when he was still caesar.\n",
        "\n",
        "[Kokoro](/kˈOkəɹO/) is an open-weight TTS model with 82 million parameters. Despite its lightweight architecture, it delivers comparable quality to larger models while being significantly faster and more cost-efficient. With Apache-licensed weights, [Kokoro](/kˈOkəɹO/) can be deployed anywhere from production environments to personal projects.\n",
        "'''\n",
        "# text = '「もしおれがただ偶然、そしてこうしようというつもりでなくここに立っているのなら、ちょっとばかり絶望するところだな」と、そんなことが彼の頭に思い浮かんだ。'\n",
        "# text = '中國人民不信邪也不怕邪，不惹事也不怕事，任何外國不要指望我們會拿自己的核心利益做交易，不要指望我們會吞下損害我國主權、安全、發展利益的苦果！'\n",
        "# text = 'Los partidos políticos tradicionales compiten con los populismos y los movimientos asamblearios.'\n",
        "# text = 'Le dromadaire resplendissant déambulait tranquillement dans les méandres en mastiquant de petites feuilles vernissées.'\n",
        "# text = 'ट्रांसपोर्टरों की हड़ताल लगातार पांचवें दिन जारी, दिसंबर से इलेक्ट्रॉनिक टोल कलेक्शनल सिस्टम'\n",
        "# text = \"Allora cominciava l'insonnia, o un dormiveglia peggiore dell'insonnia, che talvolta assumeva i caratteri dell'incubo.\"\n",
        "# text = 'Elabora relatórios de acompanhamento cronológico para as diferentes unidades do Departamento que propõem contratos.'\n",
        "\n",
        "# 4️⃣ Generate, display, and save audio files in a loop.\n",
        "generator = pipeline(\n",
        "    text, voice='af_heart', # <= change voice here\n",
        "    speed=1, split_pattern=r'\\n+'\n",
        ")\n",
        "\n",
        "# Alternatively, load voice tensor directly:\n",
        "voice_tensor = torch.load('path/to/voice.pt', weights_only=True)\n",
        "generator = pipeline(\n",
        "    text, voice=voice_tensor,\n",
        "    speed=1, split_pattern=r'\\n+'\n",
        ")\n",
        "\n",
        "for i, (gs, ps, audio) in enumerate(generator):\n",
        "    print(i)  # i => index\n",
        "    print(gs) # gs => graphemes/text\n",
        "    print(ps) # ps => phonemes\n",
        "    display(Audio(data=audio, rate=24000, autoplay=i==0))\n",
        "    sf.write(f'{i}.wav', audio, 24000) # save each audio file"
      ]
    }
  ]
}