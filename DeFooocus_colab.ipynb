{
  "cells": [
    {
      "cell_type": "markdown",
      "metadata": {
        "id": "view-in-github",
        "colab_type": "text"
      },
      "source": [
        "<a href=\"https://colab.research.google.com/github/mholtzhausen/colabnotebooks/blob/dev/DeFooocus_colab.ipynb\" target=\"_parent\"><img src=\"https://colab.research.google.com/assets/colab-badge.svg\" alt=\"Open In Colab\"/></a>"
      ]
    },
    {
      "cell_type": "code",
      "source": [
        "from google.colab import drive\n",
        "drive.mount('/content/drive')"
      ],
      "metadata": {
        "id": "keqdkpqjES5q"
      },
      "execution_count": null,
      "outputs": []
    },
    {
      "cell_type": "code",
      "source": [
        "!apt-get install -y rsync"
      ],
      "metadata": {
        "id": "HlcpF2j7cWFx"
      },
      "execution_count": null,
      "outputs": []
    },
    {
      "cell_type": "code",
      "execution_count": null,
      "metadata": {
        "id": "VjYy0F2gZIPR",
        "collapsed": true
      },
      "outputs": [],
      "source": [
        "#@title DeFooocus\n",
        "#@markdown **Launch the interface DeFocus (Fooocus fork)** | You need to connect with T4/A100/V100\n",
        "#@markdown ****\n",
        "#@markdown *Attention!* When working in the interface with the FaceSwap and CPDS controlnet, crashes are possible; it is also recommended to work in *Extreme speed* mode for additional stability. When working with the ImagePrompt and PyraCanny controls, 85% of the work will be stable.\n",
        "#@markdown ****\n",
        "\n",
        "print(\"[DeFooocus] Preparing ...\")\n",
        "\n",
        "theme = \"dark\" #@param [\"dark\", \"light\"]\n",
        "preset = \"realistic\" #@param [\"deafult\", \"realistic\", \"anime\", \"lcm\", \"sai\", \"turbo\", \"lighting\", \"hypersd\", \"playground_v2.5\", \"dpo\", \"spo\", \"sd1.5\"]\n",
        "advenced_args = \"--share --attention-split --always-high-vram --disable-offload-from-vram --all-in-fp16\" #@param {type: \"string\"}\n",
        "\n",
        "if preset != \"deafult\":\n",
        "  args = f\"{advenced_args} --theme {theme} --preset {preset}\"\n",
        "else:\n",
        "  args = f\"{advenced_args} --theme {theme}\"\n",
        "\n",
        "!pip install -q pygit2==1.12.2\n",
        "%cd /content\n",
        "!git clone https://github.com/ehristoforu/DeFooocus.git\n",
        "%cd /content/DeFooocus\n",
        "!pip install -q -r requirements_versions.txt\n",
        "\n",
        "# print(\"[DeFooocus] Starting ...\")\n",
        "# !python entry_with_update.py $args"
      ]
    },
    {
      "cell_type": "markdown",
      "source": [
        "## Load DeFooocus"
      ],
      "metadata": {
        "id": "ob03PlqpT-k3"
      }
    },
    {
      "cell_type": "code",
      "source": [
        "# !cp -r /content/drive/MyDrive/DeFooocus /\n",
        "!rsync -avh --progress /content/drive/MyDrive/DeFooocus /content"
      ],
      "metadata": {
        "id": "1h9CDuDsT9hG"
      },
      "execution_count": null,
      "outputs": []
    },
    {
      "cell_type": "markdown",
      "source": [
        "## Start"
      ],
      "metadata": {
        "id": "ij8ZGqZfGzIB"
      }
    },
    {
      "cell_type": "code",
      "source": [
        "print(\"[DeFooocus] Starting First Time\")\n",
        "!python entry_with_update.py $args"
      ],
      "metadata": {
        "collapsed": true,
        "id": "jCD82ArqUJzJ"
      },
      "execution_count": null,
      "outputs": []
    },
    {
      "cell_type": "markdown",
      "source": [
        "## Restart DeFooocus"
      ],
      "metadata": {
        "id": "hdOiI0gHA_1A"
      }
    },
    {
      "cell_type": "code",
      "source": [
        "%cd /content/DeFooocus\n",
        "!pip install -q -r requirements_versions.txt\n",
        "!python webui.py $args"
      ],
      "metadata": {
        "collapsed": true,
        "id": "mdCPGxmoZfIK"
      },
      "execution_count": null,
      "outputs": []
    },
    {
      "cell_type": "markdown",
      "source": [
        "## Save DeFooocus"
      ],
      "metadata": {
        "id": "1Xi7mShgThAI"
      }
    },
    {
      "cell_type": "code",
      "source": [
        "#!cp -r /content/DeFooocus /content/drive/MyDrive\n",
        "!rsync -avh --progress /content/DeFooocus /content/drive/MyDrive"
      ],
      "metadata": {
        "id": "8UuybqXAS1WV"
      },
      "execution_count": null,
      "outputs": []
    },
    {
      "cell_type": "markdown",
      "source": [
        "## Delete DeFooocus"
      ],
      "metadata": {
        "id": "pTN9uI-xGIdj"
      }
    },
    {
      "cell_type": "code",
      "source": [
        "!rm -r /content/DeFooocus/"
      ],
      "metadata": {
        "id": "LV0AJXklUfg8"
      },
      "execution_count": null,
      "outputs": []
    },
    {
      "cell_type": "markdown",
      "source": [
        "## Zip Outputs"
      ],
      "metadata": {
        "id": "r0GhDV_3Aqzs"
      }
    },
    {
      "cell_type": "code",
      "source": [
        "import os\n",
        "import zipfile\n",
        "\n",
        "def zip_folders(folder_path, zip_folder=None):\n",
        "  \"\"\"Zips all subfolders in a folder and names the zip files the same as the folders.\n",
        "\n",
        "  Args:\n",
        "    folder_path: The path to the folder containing the subfolders to zip.\n",
        "    zip_folder: The path to store the zip files. If not specified, defaults to folder_path.\n",
        "  \"\"\"\n",
        "  if zip_folder is None:\n",
        "    zip_folder = folder_path\n",
        "\n",
        "  for folder_name in os.listdir(folder_path):\n",
        "    folder_to_zip = os.path.join(folder_path, folder_name)\n",
        "    if os.path.isdir(folder_to_zip):\n",
        "      zip_file_name = os.path.join(zip_folder, folder_name + '.zip')\n",
        "      with zipfile.ZipFile(zip_file_name, 'w', zipfile.ZIP_DEFLATED) as zipf:\n",
        "        for root, _, files in os.walk(folder_to_zip):\n",
        "          for file in files:\n",
        "            file_path = os.path.join(root, file)\n",
        "            arcname = os.path.relpath(file_path, folder_to_zip)\n",
        "            zipf.write(file_path, arcname)\n",
        "      print(f\"Zipped {folder_name} to {zip_file_name}\")\n",
        "\n",
        "# Example usage:\n",
        "folder_path = '/content/DeFooocus/outputs'\n",
        "zip_folder = '/content/DeFooocus_zips'\n",
        "if not os.path.exists(zip_folder):\n",
        "  os.makedirs(zip_folder)  # Specify zip folder if needed\n",
        "\n",
        "zip_folders(folder_path, zip_folder)"
      ],
      "metadata": {
        "id": "-873un8L_HCX"
      },
      "execution_count": null,
      "outputs": []
    },
    {
      "cell_type": "markdown",
      "source": [
        "## Delete Outputs"
      ],
      "metadata": {
        "id": "E9q8G9C6aVap"
      }
    },
    {
      "cell_type": "code",
      "source": [
        "!rm -r /content/DeFooocus/outputs/*"
      ],
      "metadata": {
        "id": "jL5kluHRaVaq"
      },
      "execution_count": null,
      "outputs": []
    }
  ],
  "metadata": {
    "accelerator": "GPU",
    "colab": {
      "gpuType": "L4",
      "provenance": [],
      "include_colab_link": true
    },
    "kernelspec": {
      "display_name": "Python 3",
      "name": "python3"
    },
    "language_info": {
      "name": "python"
    }
  },
  "nbformat": 4,
  "nbformat_minor": 0
}