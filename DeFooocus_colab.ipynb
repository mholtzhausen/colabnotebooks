{
  "cells": [
    {
      "cell_type": "markdown",
      "metadata": {
        "id": "view-in-github",
        "colab_type": "text"
      },
      "source": [
        "<a href=\"https://colab.research.google.com/github/mholtzhausen/colabnotebooks/blob/dev/DeFooocus_colab.ipynb\" target=\"_parent\"><img src=\"https://colab.research.google.com/assets/colab-badge.svg\" alt=\"Open In Colab\"/></a>"
      ]
    },
    {
      "cell_type": "code",
      "source": [
        "from google.colab import drive\n",
        "drive.mount('/content/drive')"
      ],
      "metadata": {
        "id": "keqdkpqjES5q",
        "outputId": "75ed20e7-20a6-48a2-fee9-aa60fcabf5cc",
        "colab": {
          "base_uri": "https://localhost:8080/"
        }
      },
      "execution_count": 1,
      "outputs": [
        {
          "output_type": "stream",
          "name": "stdout",
          "text": [
            "Mounted at /content/drive\n"
          ]
        }
      ]
    },
    {
      "cell_type": "code",
      "source": [
        "!cd /content/DeFooocus"
      ],
      "metadata": {
        "id": "WW1UCri7VnpI"
      },
      "execution_count": 7,
      "outputs": []
    },
    {
      "cell_type": "code",
      "execution_count": null,
      "metadata": {
        "id": "VjYy0F2gZIPR",
        "colab": {
          "base_uri": "https://localhost:8080/"
        },
        "outputId": "ece725e4-cc7d-4f86-c0b6-47343b48b01f",
        "collapsed": true
      },
      "outputs": [
        {
          "output_type": "stream",
          "name": "stdout",
          "text": [
            "[DeFooocus] Preparing ...\n",
            "shell-init: error retrieving current directory: getcwd: cannot access parent directories: No such file or directory\n",
            "shell-init: error retrieving current directory: getcwd: cannot access parent directories: No such file or directory\n",
            "The folder you are executing pip from can no longer be found.\n",
            "/content\n",
            "fatal: destination path 'DeFooocus' already exists and is not an empty directory.\n",
            "/content/DeFooocus\n",
            "Traceback (most recent call last):\n",
            "  File \"/usr/local/bin/pip3\", line 10, in <module>\n",
            "    sys.exit(main())\n",
            "             ^^^^^^\n",
            "  File \"/usr/local/lib/python3.11/dist-packages/pip/_internal/cli/main.py\", line 78, in main\n",
            "    command = create_command(cmd_name, isolated=(\"--isolated\" in cmd_args))\n",
            "              ^^^^^^^^^^^^^^^^^^^^^^^^^^^^^^^^^^^^^^^^^^^^^^^^^^^^^^^^^^^^^\n",
            "  File \"/usr/local/lib/python3.11/dist-packages/pip/_internal/commands/__init__.py\", line 114, in create_command\n",
            "    module = importlib.import_module(module_path)\n",
            "             ^^^^^^^^^^^^^^^^^^^^^^^^^^^^^^^^^^^^\n",
            "  File \"/usr/lib/python3.11/importlib/__init__.py\", line 126, in import_module\n",
            "    return _bootstrap._gcd_import(name[level:], package, level)\n",
            "           ^^^^^^^^^^^^^^^^^^^^^^^^^^^^^^^^^^^^^^^^^^^^^^^^^^^^\n",
            "  File \"<frozen importlib._bootstrap>\", line 1204, in _gcd_import\n",
            "  File \"<frozen importlib._bootstrap>\", line 1176, in _find_and_load\n",
            "  File \"<frozen importlib._bootstrap>\", line 1147, in _find_and_load_unlocked\n",
            "  File \"<frozen importlib._bootstrap>\", line 690, in _load_unlocked\n",
            "  File \"<frozen importlib._bootstrap_external>\", line 940, in exec_module\n",
            "  File \"<frozen importlib._bootstrap>\", line 241, in _call_with_frames_removed\n",
            "  File \"/usr/local/lib/python3.11/dist-packages/pip/_internal/commands/install.py\", line 15, in <module>\n",
            "    from pip._internal.cli.req_command import (\n",
            "  File \"/usr/local/lib/python3.11/dist-packages/pip/_internal/cli/req_command.py\", line 18, in <module>\n",
            "    from pip._internal.index.collector import LinkCollector\n",
            "  File \"/usr/local/lib/python3.11/dist-packages/pip/_internal/index/collector.py\", line 31, in <module>\n",
            "    from pip._vendor import requests\n",
            "  File \"/usr/local/lib/python3.11/dist-packages/pip/_vendor/requests/__init__.py\", line 43, in <module>\n",
            "    from pip._vendor import urllib3\n",
            "  File \"/usr/local/lib/python3.11/dist-packages/pip/_vendor/urllib3/__init__.py\", line 13, in <module>\n",
            "    from .connectionpool import HTTPConnectionPool, HTTPSConnectionPool, connection_from_url\n",
            "  File \"/usr/local/lib/python3.11/dist-packages/pip/_vendor/urllib3/connectionpool.py\", line 41, in <module>\n",
            "    from .response import HTTPResponse\n",
            "  File \"<frozen importlib._bootstrap>\", line 1176, in _find_and_load\n",
            "  File \"<frozen importlib._bootstrap>\", line 1147, in _find_and_load_unlocked\n",
            "  File \"<frozen importlib._bootstrap>\", line 690, in _load_unlocked\n",
            "  File \"<frozen importlib._bootstrap_external>\", line 936, in exec_module\n",
            "  File \"<frozen importlib._bootstrap_external>\", line 1032, in get_code\n",
            "  File \"<frozen importlib._bootstrap_external>\", line 1131, in get_data\n",
            "KeyboardInterrupt\n",
            "^C\n"
          ]
        }
      ],
      "source": [
        "#@title DeFooocus\n",
        "#@markdown **Launch the interface DeFocus (Fooocus fork)** | You need to connect with T4/A100/V100\n",
        "#@markdown ****\n",
        "#@markdown *Attention!* When working in the interface with the FaceSwap and CPDS controlnet, crashes are possible; it is also recommended to work in *Extreme speed* mode for additional stability. When working with the ImagePrompt and PyraCanny controls, 85% of the work will be stable.\n",
        "#@markdown ****\n",
        "\n",
        "print(\"[DeFooocus] Preparing ...\")\n",
        "\n",
        "theme = \"dark\" #@param [\"dark\", \"light\"]\n",
        "preset = \"realistic\" #@param [\"deafult\", \"realistic\", \"anime\", \"lcm\", \"sai\", \"turbo\", \"lighting\", \"hypersd\", \"playground_v2.5\", \"dpo\", \"spo\", \"sd1.5\"]\n",
        "advenced_args = \"--share --attention-split --always-high-vram --disable-offload-from-vram --all-in-fp16\" #@param {type: \"string\"}\n",
        "\n",
        "if preset != \"deafult\":\n",
        "  args = f\"{advenced_args} --theme {theme} --preset {preset}\"\n",
        "else:\n",
        "  args = f\"{advenced_args} --theme {theme}\"\n",
        "\n",
        "!pip install -q pygit2==1.12.2\n",
        "%cd /content\n",
        "!git clone https://github.com/ehristoforu/DeFooocus.git\n",
        "%cd /content/DeFooocus\n",
        "!pip install -q -r requirements_versions.txt\n",
        "\n",
        "# print(\"[DeFooocus] Starting ...\")\n",
        "# !python entry_with_update.py $args"
      ]
    },
    {
      "cell_type": "markdown",
      "source": [
        "## Copy Models"
      ],
      "metadata": {
        "id": "0jpfIONVGhhV"
      }
    },
    {
      "cell_type": "code",
      "source": [
        "!cp -r \"/content/drive/MyDrive/Fooocus Data/models\" /content/DeFooocus"
      ],
      "metadata": {
        "id": "mCE3ebMuFyJc"
      },
      "execution_count": 5,
      "outputs": []
    },
    {
      "cell_type": "code",
      "source": [
        "#!wget -O /content/DeFooocus/models/checkpoints/CyberRealisticPony_7a.safetensors https://huggingface.co/cyberdelia/CyberRealisticPony/resolve/main/CyberRealisticPony_V7a.safetensors?download=true\n",
        "\n",
        "\n",
        "\n"
      ],
      "metadata": {
        "colab": {
          "base_uri": "https://localhost:8080/"
        },
        "collapsed": true,
        "id": "MggdjX1TUJRO",
        "outputId": "478b4733-d9cb-49a4-e1f9-2164b68747fe"
      },
      "execution_count": null,
      "outputs": [
        {
          "output_type": "stream",
          "name": "stdout",
          "text": [
            "--2025-03-06 12:27:26--  https://huggingface.co/cyberdelia/CyberRealisticPony/resolve/main/CyberRealisticPony_V7a.safetensors?download=true\n",
            "Resolving huggingface.co (huggingface.co)... 108.138.246.79, 108.138.246.67, 108.138.246.71, ...\n",
            "Connecting to huggingface.co (huggingface.co)|108.138.246.79|:443... connected.\n",
            "HTTP request sent, awaiting response... 302 Found\n",
            "Location: https://cdn-lfs-us-1.hf.co/repos/e4/c1/e4c10b8977898187efea83ad67bcaffdff6f2b4649a82acc98c9f7503fe0cd33/3b5dce3bbb1d37ed9852aee4da46ddf750d25e923d3edc9796a4b4424ec336a4?response-content-disposition=attachment%3B+filename*%3DUTF-8%27%27CyberRealisticPony_V7a.safetensors%3B+filename%3D%22CyberRealisticPony_V7a.safetensors%22%3B&Expires=1741267647&Policy=eyJTdGF0ZW1lbnQiOlt7IkNvbmRpdGlvbiI6eyJEYXRlTGVzc1RoYW4iOnsiQVdTOkVwb2NoVGltZSI6MTc0MTI2NzY0N319LCJSZXNvdXJjZSI6Imh0dHBzOi8vY2RuLWxmcy11cy0xLmhmLmNvL3JlcG9zL2U0L2MxL2U0YzEwYjg5Nzc4OTgxODdlZmVhODNhZDY3YmNhZmZkZmY2ZjJiNDY0OWE4MmFjYzk4YzlmNzUwM2ZlMGNkMzMvM2I1ZGNlM2JiYjFkMzdlZDk4NTJhZWU0ZGE0NmRkZjc1MGQyNWU5MjNkM2VkYzk3OTZhNGI0NDI0ZWMzMzZhND9yZXNwb25zZS1jb250ZW50LWRpc3Bvc2l0aW9uPSoifV19&Signature=ER4pIoTVBa5ojfE%7EIiM4M0wG2yx%7EtUTSFCJU0STVlqiKsjTNa-Z4G-u%7E%7EeOfRUobEeuu46nD%7ECYMIgYjHqbSl9c13-U%7ECgGwTqcS8GlTgX6i6d8DNJ35Z77F%7EJQtntq5Xtw0JUUE1YC6sRSLCxaWU8r8iYQeRv%7ELqwx8r-2QwzHjoxjlDb3zDodT-Ch3Hy5tfs5bZNDpKyx%7EYFlWwD6kd4HehKv4N6v6JuF1qc02dWUO6Nyb6nBYoeiG1kifj3OI8A1wp0ZQ-GALL7TlVD3ezN1sbOcBfnAcfXdqQxkS%7EMmjqH5iUo0F%7EypCWRfeSj2H0jfcvH%7ECAItaf-vZyfc-ow__&Key-Pair-Id=K24J24Z295AEI9 [following]\n",
            "--2025-03-06 12:27:27--  https://cdn-lfs-us-1.hf.co/repos/e4/c1/e4c10b8977898187efea83ad67bcaffdff6f2b4649a82acc98c9f7503fe0cd33/3b5dce3bbb1d37ed9852aee4da46ddf750d25e923d3edc9796a4b4424ec336a4?response-content-disposition=attachment%3B+filename*%3DUTF-8%27%27CyberRealisticPony_V7a.safetensors%3B+filename%3D%22CyberRealisticPony_V7a.safetensors%22%3B&Expires=1741267647&Policy=eyJTdGF0ZW1lbnQiOlt7IkNvbmRpdGlvbiI6eyJEYXRlTGVzc1RoYW4iOnsiQVdTOkVwb2NoVGltZSI6MTc0MTI2NzY0N319LCJSZXNvdXJjZSI6Imh0dHBzOi8vY2RuLWxmcy11cy0xLmhmLmNvL3JlcG9zL2U0L2MxL2U0YzEwYjg5Nzc4OTgxODdlZmVhODNhZDY3YmNhZmZkZmY2ZjJiNDY0OWE4MmFjYzk4YzlmNzUwM2ZlMGNkMzMvM2I1ZGNlM2JiYjFkMzdlZDk4NTJhZWU0ZGE0NmRkZjc1MGQyNWU5MjNkM2VkYzk3OTZhNGI0NDI0ZWMzMzZhND9yZXNwb25zZS1jb250ZW50LWRpc3Bvc2l0aW9uPSoifV19&Signature=ER4pIoTVBa5ojfE%7EIiM4M0wG2yx%7EtUTSFCJU0STVlqiKsjTNa-Z4G-u%7E%7EeOfRUobEeuu46nD%7ECYMIgYjHqbSl9c13-U%7ECgGwTqcS8GlTgX6i6d8DNJ35Z77F%7EJQtntq5Xtw0JUUE1YC6sRSLCxaWU8r8iYQeRv%7ELqwx8r-2QwzHjoxjlDb3zDodT-Ch3Hy5tfs5bZNDpKyx%7EYFlWwD6kd4HehKv4N6v6JuF1qc02dWUO6Nyb6nBYoeiG1kifj3OI8A1wp0ZQ-GALL7TlVD3ezN1sbOcBfnAcfXdqQxkS%7EMmjqH5iUo0F%7EypCWRfeSj2H0jfcvH%7ECAItaf-vZyfc-ow__&Key-Pair-Id=K24J24Z295AEI9\n",
            "Resolving cdn-lfs-us-1.hf.co (cdn-lfs-us-1.hf.co)... 18.164.154.89, 18.164.154.57, 18.164.154.16, ...\n",
            "Connecting to cdn-lfs-us-1.hf.co (cdn-lfs-us-1.hf.co)|18.164.154.89|:443... connected.\n",
            "HTTP request sent, awaiting response... 200 OK\n",
            "Length: 6938040682 (6.5G) [binary/octet-stream]\n",
            "Saving to: ‘/content/DeFooocus/models/checkpoints/CyberRealisticPony_7a.safetensors’\n",
            "\n",
            "/content/DeFooocus/ 100%[===================>]   6.46G   178MB/s    in 47s     \n",
            "\n",
            "2025-03-06 12:28:14 (141 MB/s) - ‘/content/DeFooocus/models/checkpoints/CyberRealisticPony_7a.safetensors’ saved [6938040682/6938040682]\n",
            "\n"
          ]
        }
      ]
    },
    {
      "cell_type": "markdown",
      "source": [
        "## Start"
      ],
      "metadata": {
        "id": "ij8ZGqZfGzIB"
      }
    },
    {
      "cell_type": "code",
      "source": [
        "print(\"[DeFooocus] Starting First Time\")\n",
        "!python entry_with_update.py $args"
      ],
      "metadata": {
        "collapsed": true,
        "id": "jCD82ArqUJzJ"
      },
      "execution_count": null,
      "outputs": []
    },
    {
      "cell_type": "code",
      "source": [
        "%cd DeFooocus\n",
        "!pip install -q -r requirements_versions.txt\n",
        "!python webui.py $args"
      ],
      "metadata": {
        "collapsed": true,
        "id": "mdCPGxmoZfIK",
        "outputId": "3cb5af7b-ed92-442a-99f6-1ff78af76be6",
        "colab": {
          "base_uri": "https://localhost:8080/"
        }
      },
      "execution_count": 17,
      "outputs": [
        {
          "output_type": "stream",
          "name": "stdout",
          "text": [
            "/content/DeFooocus\n",
            "total 392K\n",
            "drwx------ 19 root root 4.0K Mar  7 19:43 .\n",
            "drwxr-xr-x  1 root root 4.0K Mar  7 19:32 ..\n",
            "-rw-------  1 root root 2.7K Mar  7 19:41 args_manager.py\n",
            "drwx------  2 root root 4.0K Mar  7 19:33 assets\n",
            "-rw-------  1 root root  111 Mar  7 19:43 auth-example.json\n",
            "-rw-------  1 root root  840 Mar  7 19:43 build_launcher.py\n",
            "drwx------  2 root root 4.0K Mar  7 19:32 checkpoints\n",
            "-rw-------  1 root root 4.0K Mar  7 19:41 config_modification_tutorial.txt\n",
            "-rw-------  1 root root  731 Mar  7 19:41 config.txt\n",
            "drwx------  2 root root 4.0K Mar  7 19:33 css\n",
            "-rw-------  1 root root 2.1K Mar  7 19:41 DeFooocus_colab.ipynb\n",
            "-rw-------  1 root root 1.5K Mar  7 19:43 docker-compose.yml\n",
            "-rw-------  1 root root 1.2K Mar  7 19:41 Dockerfile\n",
            "-rw-------  1 root root    6 Mar  7 19:41 .dockerignore\n",
            "-rw-------  1 root root 3.7K Mar  7 19:43 docker.md\n",
            "-rw-------  1 root root  632 Mar  7 19:43 entrypoint.sh\n",
            "-rw-------  1 root root 1.4K Mar  7 19:43 entry_with_update.py\n",
            "-rw-------  1 root root   96 Mar  7 19:43 environment.yaml\n",
            "-rw-------  1 root root  160 Mar  7 19:43 experiments_expansion.py\n",
            "-rw-------  1 root root  149 Mar  7 19:43 experiments_face.py\n",
            "-rw-------  1 root root  376 Mar  7 19:43 experiments_interrogate.py\n",
            "drwx------  6 root root 4.0K Mar  7 19:34 extras\n",
            "-rw-------  1 root root   16 Mar  7 19:43 fooocus_version.py\n",
            "drwx------  8 root root 4.0K Mar  7 19:33 .git\n",
            "drwx------  3 root root 4.0K Mar  7 19:33 .github\n",
            "-rw-------  1 root root  721 Mar  7 19:41 .gitignore\n",
            "drwx------  2 root root 4.0K Mar  7 19:35 javascript\n",
            "drwx------  2 root root 4.0K Mar  7 19:35 language\n",
            "-rw-------  1 root root 5.2K Mar  7 19:43 launch.py\n",
            "drwx------ 13 root root 4.0K Mar  7 19:37 ldm_patched\n",
            "-rw-------  1 root root  35K Mar  7 19:41 LICENSE\n",
            "drwx------ 20 root root 4.0K Mar  7 19:41 models\n",
            "drwx------  3 root root 4.0K Mar  7 19:42 modules\n",
            "-rw-------  1 root root  58K Mar  7 19:42 notification-example.ogg\n",
            "drwx------  2 root root 4.0K Mar  7 19:42 online\n",
            "drwx------  3 root root 4.0K Mar  7 19:32 outputs\n",
            "drwx------  2 root root 4.0K Mar  7 19:42 presets\n",
            "drwx------  2 root root 4.0K Mar  7 19:32 __pycache__\n",
            "-rw-------  1 root root  29K Mar  7 19:42 readme.md\n",
            "-rw-------  1 root root   86 Mar  7 19:42 requirements_docker.txt\n",
            "-rw-------  1 root root  404 Mar  7 19:42 requirements_versions.txt\n",
            "drwx------  3 root root 4.0K Mar  7 19:42 sdxl_styles\n",
            "-rw-------  1 root root   18 Mar  7 19:42 shared.py\n",
            "-rw-------  1 root root 8.7K Mar  7 19:42 troubleshoot.md\n",
            "-rw-------  1 root root  21K Mar  7 19:42 update_log.md\n",
            "-rw-------  1 root root  58K Mar  7 19:42 webui.py\n",
            "drwx------  2 root root 4.0K Mar  7 19:42 wildcards\n",
            "Traceback (most recent call last):\n",
            "  File \"/content/DeFooocus/webui.py\", line 1, in <module>\n",
            "    import gradio as gr\n",
            "ModuleNotFoundError: No module named 'gradio'\n"
          ]
        }
      ]
    },
    {
      "cell_type": "markdown",
      "source": [
        "## Save DeFooocus"
      ],
      "metadata": {
        "id": "1Xi7mShgThAI"
      }
    },
    {
      "cell_type": "code",
      "source": [
        "!cp -r /content/DeFooocus /content/drive/MyDrive"
      ],
      "metadata": {
        "id": "8UuybqXAS1WV"
      },
      "execution_count": null,
      "outputs": []
    },
    {
      "cell_type": "markdown",
      "source": [
        "## Load DeFooocus"
      ],
      "metadata": {
        "id": "ob03PlqpT-k3"
      }
    },
    {
      "cell_type": "code",
      "source": [
        "!cp -r /content/drive/MyDrive/DeFooocus /content"
      ],
      "metadata": {
        "id": "1h9CDuDsT9hG"
      },
      "execution_count": 4,
      "outputs": []
    },
    {
      "cell_type": "markdown",
      "source": [
        "## Delete DeFooocus"
      ],
      "metadata": {
        "id": "pTN9uI-xGIdj"
      }
    },
    {
      "cell_type": "code",
      "source": [
        "!rm -r /content/DeFooocus/"
      ],
      "metadata": {
        "id": "LV0AJXklUfg8"
      },
      "execution_count": null,
      "outputs": []
    },
    {
      "cell_type": "code",
      "source": [],
      "metadata": {
        "id": "ND20hrdxGWaw"
      },
      "execution_count": null,
      "outputs": []
    }
  ],
  "metadata": {
    "accelerator": "GPU",
    "colab": {
      "gpuType": "T4",
      "provenance": [],
      "include_colab_link": true
    },
    "kernelspec": {
      "display_name": "Python 3",
      "name": "python3"
    },
    "language_info": {
      "name": "python"
    }
  },
  "nbformat": 4,
  "nbformat_minor": 0
}