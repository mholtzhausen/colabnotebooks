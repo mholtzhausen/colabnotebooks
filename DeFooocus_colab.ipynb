{
  "cells": [
    {
      "cell_type": "markdown",
      "metadata": {
        "id": "view-in-github",
        "colab_type": "text"
      },
      "source": [
        "<a href=\"https://colab.research.google.com/github/mholtzhausen/colabnotebooks/blob/dev/DeFooocus_colab.ipynb\" target=\"_parent\"><img src=\"https://colab.research.google.com/assets/colab-badge.svg\" alt=\"Open In Colab\"/></a>"
      ]
    },
    {
      "cell_type": "code",
      "source": [
        "from google.colab import drive\n",
        "drive.mount('/content/drive')"
      ],
      "metadata": {
        "id": "keqdkpqjES5q",
        "outputId": "85547d9b-717a-4e78-9fe9-9181cbca2a2b",
        "colab": {
          "base_uri": "https://localhost:8080/"
        }
      },
      "execution_count": 1,
      "outputs": [
        {
          "output_type": "stream",
          "name": "stdout",
          "text": [
            "Mounted at /content/drive\n"
          ]
        }
      ]
    },
    {
      "cell_type": "code",
      "source": [
        "!apt-get install -y rsync"
      ],
      "metadata": {
        "id": "HlcpF2j7cWFx"
      },
      "execution_count": null,
      "outputs": []
    },
    {
      "cell_type": "code",
      "execution_count": null,
      "metadata": {
        "id": "VjYy0F2gZIPR",
        "collapsed": true
      },
      "outputs": [],
      "source": [
        "#@title DeFooocus\n",
        "#@markdown **Launch the interface DeFocus (Fooocus fork)** | You need to connect with T4/A100/V100\n",
        "#@markdown ****\n",
        "#@markdown *Attention!* When working in the interface with the FaceSwap and CPDS controlnet, crashes are possible; it is also recommended to work in *Extreme speed* mode for additional stability. When working with the ImagePrompt and PyraCanny controls, 85% of the work will be stable.\n",
        "#@markdown ****\n",
        "\n",
        "print(\"[DeFooocus] Preparing ...\")\n",
        "\n",
        "theme = \"dark\" #@param [\"dark\", \"light\"]\n",
        "preset = \"PD\" #@param [\"deafult\", \"PD\", \"realistic\", \"anime\", \"lcm\", \"sai\", \"turbo\", \"lighting\", \"hypersd\", \"playground_v2.5\", \"dpo\", \"spo\", \"sd1.5\"]\n",
        "advenced_args = \"--share --attention-split --always-high-vram --disable-offload-from-vram --all-in-fp16\" #@param {type: \"string\"}\n",
        "\n",
        "if preset != \"deafult\":\n",
        "  args = f\"{advenced_args} --theme {theme} --preset {preset}\"\n",
        "else:\n",
        "  args = f\"{advenced_args} --theme {theme}\"\n",
        "\n",
        "!pip install -q pygit2==1.12.2\n",
        "%cd /content\n",
        "!git clone https://github.com/ehristoforu/DeFooocus.git\n",
        "%cd /content/DeFooocus\n",
        "!pip install -q -r requirements_versions.txt\n",
        "\n",
        "# print(\"[DeFooocus] Starting ...\")\n",
        "# !python entry_with_update.py $args"
      ]
    },
    {
      "cell_type": "markdown",
      "source": [
        "## Load DeFooocus"
      ],
      "metadata": {
        "id": "ob03PlqpT-k3"
      }
    },
    {
      "cell_type": "code",
      "source": [
        "# !cp -r /content/drive/MyDrive/DeFooocus /\n",
        "!rsync -avh --progress /content/drive/MyDrive/DeFooocus/presets /content/Defooocus\n",
        "!rsync -avh --progress /content/drive/MyDrive/DeFooocus/models /content/DeFooocus\n",
        "\n"
      ],
      "metadata": {
        "id": "1h9CDuDsT9hG",
        "outputId": "2ccce686-e249-4004-9883-03880e71a3cb",
        "colab": {
          "base_uri": "https://localhost:8080/"
        }
      },
      "execution_count": 10,
      "outputs": [
        {
          "output_type": "stream",
          "name": "stdout",
          "text": [
            "sending incremental file list\n",
            "\n",
            "sent 382 bytes  received 18 bytes  800.00 bytes/sec\n",
            "total size is 17.73K  speedup is 44.32\n",
            "sending incremental file list\n",
            "\n",
            "sent 3.09K bytes  received 38 bytes  6.25K bytes/sec\n",
            "total size is 36.57G  speedup is 11,701,174.80\n"
          ]
        }
      ]
    },
    {
      "cell_type": "markdown",
      "source": [
        "## Start"
      ],
      "metadata": {
        "id": "ij8ZGqZfGzIB"
      }
    },
    {
      "cell_type": "code",
      "source": [
        "print(\"[DeFooocus] Starting First Time\")\n",
        "!python /content/DeFooocus/entry_with_update.py $args"
      ],
      "metadata": {
        "collapsed": true,
        "id": "jCD82ArqUJzJ",
        "outputId": "99731ada-6ffc-4929-c563-f0bf091957cd",
        "colab": {
          "base_uri": "https://localhost:8080/"
        }
      },
      "execution_count": null,
      "outputs": [
        {
          "output_type": "stream",
          "name": "stdout",
          "text": [
            "[DeFooocus] Starting First Time\n",
            "Already up-to-date\n",
            "Update succeeded.\n",
            "[System ARGV] ['/content/DeFooocus/entry_with_update.py', '--share', '--attention-split', '--always-high-vram', '--disable-offload-from-vram', '--all-in-fp16', '--theme', 'dark', '--preset', 'PD']\n",
            "Python 3.11.11 (main, Dec  4 2024, 08:55:07) [GCC 11.4.0]\n",
            "Fooocus version: 0.2\n",
            "Loaded preset: /content/DeFooocus/presets/PD.json\n",
            "Total VRAM 22693 MB, total RAM 54233 MB\n",
            "Forcing FP16.\n",
            "Set vram state to: HIGH_VRAM\n",
            "Device: cuda:0 NVIDIA L4 : native\n",
            "VAE dtype: torch.bfloat16\n",
            "Using split optimization for cross attention\n",
            "2025-03-25 13:37:54.802488: E external/local_xla/xla/stream_executor/cuda/cuda_fft.cc:477] Unable to register cuFFT factory: Attempting to register factory for plugin cuFFT when one has already been registered\n",
            "WARNING: All log messages before absl::InitializeLog() is called are written to STDERR\n",
            "E0000 00:00:1742909874.825192    9175 cuda_dnn.cc:8310] Unable to register cuDNN factory: Attempting to register factory for plugin cuDNN when one has already been registered\n",
            "E0000 00:00:1742909874.832251    9175 cuda_blas.cc:1418] Unable to register cuBLAS factory: Attempting to register factory for plugin cuBLAS when one has already been registered\n",
            "Refiner unloaded.\n"
          ]
        }
      ]
    },
    {
      "cell_type": "markdown",
      "source": [
        "## Restart DeFooocus"
      ],
      "metadata": {
        "id": "hdOiI0gHA_1A"
      }
    },
    {
      "cell_type": "code",
      "source": [
        "%cd /content/DeFooocus\n",
        "!pip install -q -r requirements_versions.txt\n",
        "!python webui.py $args"
      ],
      "metadata": {
        "collapsed": true,
        "id": "mdCPGxmoZfIK",
        "outputId": "b1e74ba1-4640-48ff-dce5-3b6cefac48d1",
        "colab": {
          "base_uri": "https://localhost:8080/"
        }
      },
      "execution_count": null,
      "outputs": [
        {
          "output_type": "stream",
          "name": "stdout",
          "text": [
            "Keyboard interruption in main thread... closing server.\n",
            "Traceback (most recent call last):\n",
            "  File \"/usr/local/lib/python3.11/dist-packages/gradio/blocks.py\", line 2199, in block_thread\n",
            "    time.sleep(0.1)\n",
            "KeyboardInterrupt\n",
            "\n",
            "During handling of the above exception, another exception occurred:\n",
            "\n",
            "Traceback (most recent call last):\n",
            "  File \"/content/DeFooocus/webui.py\", line 20, in <module>\n",
            "    import launch\n",
            "  File \"/content/DeFooocus/launch.py\", line 128, in <module>\n",
            "    from webui import *\n",
            "  File \"/content/DeFooocus/webui.py\", line 869, in <module>\n",
            "    shared.gradio_root.launch(\n",
            "  File \"/usr/local/lib/python3.11/dist-packages/gradio/blocks.py\", line 2115, in launch\n",
            "    self.block_thread()\n",
            "  File \"/usr/local/lib/python3.11/dist-packages/gradio/blocks.py\", line 2201, in block_thread\n",
            "    print(\"Keyboard interruption in main thread... closing server.\")\n",
            "  File \"/usr/local/lib/python3.11/dist-packages/wandb/sdk/lib/console_capture.py\", line 147, in write_with_callbacks\n",
            "    n = orig_write(s)\n",
            "        ^^^^^^^^^^^^^\n",
            "KeyboardInterrupt\n",
            "Killing tunnel 127.0.0.1:7860 <> https://90b468f8122a91da63.gradio.live\n"
          ]
        }
      ]
    },
    {
      "cell_type": "markdown",
      "source": [
        "## Delete DeFooocus"
      ],
      "metadata": {
        "id": "pTN9uI-xGIdj"
      }
    },
    {
      "cell_type": "code",
      "source": [
        "!rm -r /content/DeFooocus/"
      ],
      "metadata": {
        "id": "LV0AJXklUfg8"
      },
      "execution_count": null,
      "outputs": []
    },
    {
      "cell_type": "markdown",
      "source": [
        "## Zip Outputs"
      ],
      "metadata": {
        "id": "r0GhDV_3Aqzs"
      }
    },
    {
      "cell_type": "code",
      "source": [
        "import os\n",
        "import zipfile\n",
        "\n",
        "def zip_folders(folder_path, zip_folder=None):\n",
        "  \"\"\"Zips all subfolders in a folder and names the zip files the same as the folders.\n",
        "\n",
        "  Args:\n",
        "    folder_path: The path to the folder containing the subfolders to zip.\n",
        "    zip_folder: The path to store the zip files. If not specified, defaults to folder_path.\n",
        "  \"\"\"\n",
        "  if zip_folder is None:\n",
        "    zip_folder = folder_path\n",
        "\n",
        "  for folder_name in os.listdir(folder_path):\n",
        "    folder_to_zip = os.path.join(folder_path, folder_name)\n",
        "    if os.path.isdir(folder_to_zip):\n",
        "      zip_file_name = os.path.join(zip_folder, folder_name + '.zip')\n",
        "      with zipfile.ZipFile(zip_file_name, 'w', zipfile.ZIP_DEFLATED) as zipf:\n",
        "        for root, _, files in os.walk(folder_to_zip):\n",
        "          for file in files:\n",
        "            file_path = os.path.join(root, file)\n",
        "            arcname = os.path.relpath(file_path, folder_to_zip)\n",
        "            zipf.write(file_path, arcname)\n",
        "      print(f\"Zipped {folder_name} to {zip_file_name}\")\n",
        "\n",
        "# Example usage:\n",
        "folder_path = '/content/DeFooocus/outputs'\n",
        "zip_folder = '/content/DeFooocus_zips'\n",
        "if not os.path.exists(zip_folder):\n",
        "  os.makedirs(zip_folder)  # Specify zip folder if needed\n",
        "\n",
        "zip_folders(folder_path, zip_folder)"
      ],
      "metadata": {
        "id": "-873un8L_HCX"
      },
      "execution_count": null,
      "outputs": []
    },
    {
      "cell_type": "markdown",
      "source": [
        "## Delete Outputs"
      ],
      "metadata": {
        "id": "E9q8G9C6aVap"
      }
    },
    {
      "cell_type": "code",
      "source": [
        "!rm -r /content/DeFooocus/outputs/*"
      ],
      "metadata": {
        "id": "jL5kluHRaVaq"
      },
      "execution_count": null,
      "outputs": []
    },
    {
      "cell_type": "markdown",
      "source": [
        "## Save DeFooocus"
      ],
      "metadata": {
        "id": "1Xi7mShgThAI"
      }
    },
    {
      "cell_type": "code",
      "source": [
        "#!cp -r /content/DeFooocus /content/drive/MyDrive\n",
        "!rsync -avh --progress /content/DeFooocus /content/drive/MyDrive"
      ],
      "metadata": {
        "id": "8UuybqXAS1WV",
        "outputId": "638d5304-395c-496e-81bd-cd0a0d59af5a",
        "colab": {
          "base_uri": "https://localhost:8080/"
        }
      },
      "execution_count": null,
      "outputs": [
        {
          "output_type": "stream",
          "name": "stdout",
          "text": [
            "sending incremental file list\n",
            "DeFooocus/config_modification_tutorial.txt\n",
            "\r          4.02K 100%    0.00kB/s    0:00:00  \r          4.02K 100%    0.00kB/s    0:00:00 (xfr#1, to-chk=921/932)\n",
            "DeFooocus/.git/\n",
            "DeFooocus/.git/FETCH_HEAD\n",
            "\r            717 100%    5.74kB/s    0:00:00  \r            717 100%    5.74kB/s    0:00:00 (xfr#2, to-chk=886/932)\n",
            "DeFooocus/.git/objects/pack/pack-42ea88845a3e44629583452d14195adcb121215c.idx\n",
            "\r         32.77K  16%  262.30kB/s    0:00:00  \r        197.88K 100%    1.39MB/s    0:00:00 (xfr#3, to-chk=851/932)\n",
            "DeFooocus/.git/objects/pack/pack-42ea88845a3e44629583452d14195adcb121215c.pack\n",
            "         49.65M 100%  115.77MB/s    0:00:00 (xfr#4, to-chk=850/932)\n",
            "DeFooocus/models/loras/\n",
            "DeFooocus/models/loras/age-mimimeter.safetensors\n",
            "         52.40M 100%   86.46MB/s    0:00:00 (xfr#5, to-chk=397/932)\n",
            "DeFooocus/outputs/\n",
            "\n",
            "sent 102.30M bytes  received 253 bytes  68.20M bytes/sec\n",
            "total size is 36.73G  speedup is 359.06\n"
          ]
        }
      ]
    }
  ],
  "metadata": {
    "accelerator": "GPU",
    "colab": {
      "gpuType": "L4",
      "provenance": [],
      "include_colab_link": true
    },
    "kernelspec": {
      "display_name": "Python 3",
      "name": "python3"
    },
    "language_info": {
      "name": "python"
    }
  },
  "nbformat": 4,
  "nbformat_minor": 0
}