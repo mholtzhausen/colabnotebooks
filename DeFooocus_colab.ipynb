{
  "cells": [
    {
      "cell_type": "markdown",
      "metadata": {
        "id": "view-in-github",
        "colab_type": "text"
      },
      "source": [
        "<a href=\"https://colab.research.google.com/github/mholtzhausen/colabnotebooks/blob/dev/DeFooocus_colab.ipynb\" target=\"_parent\"><img src=\"https://colab.research.google.com/assets/colab-badge.svg\" alt=\"Open In Colab\"/></a>"
      ]
    },
    {
      "cell_type": "code",
      "source": [
        "from google.colab import drive\n",
        "drive.mount('/content/drive')"
      ],
      "metadata": {
        "id": "keqdkpqjES5q",
        "outputId": "36e017f8-7b78-44b6-aa45-8998d481ff07",
        "colab": {
          "base_uri": "https://localhost:8080/"
        }
      },
      "execution_count": 2,
      "outputs": [
        {
          "output_type": "stream",
          "name": "stdout",
          "text": [
            "Mounted at /content/drive\n"
          ]
        }
      ]
    },
    {
      "cell_type": "code",
      "execution_count": null,
      "metadata": {
        "id": "VjYy0F2gZIPR",
        "cellView": "form",
        "collapsed": true
      },
      "outputs": [],
      "source": [
        "#@title DeFooocus\n",
        "#@markdown **Launch the interface DeFocus (Fooocus fork)** | You need to connect with T4/A100/V100\n",
        "#@markdown ****\n",
        "#@markdown *Attention!* When working in the interface with the FaceSwap and CPDS controlnet, crashes are possible; it is also recommended to work in *Extreme speed* mode for additional stability. When working with the ImagePrompt and PyraCanny controls, 85% of the work will be stable.\n",
        "#@markdown ****\n",
        "\n",
        "print(\"[DeFooocus] Preparing ...\")\n",
        "\n",
        "theme = \"dark\" #@param [\"dark\", \"light\"]\n",
        "preset = \"realistic\" #@param [\"deafult\", \"realistic\", \"anime\", \"lcm\", \"sai\", \"turbo\", \"lighting\", \"hypersd\", \"playground_v2.5\", \"dpo\", \"spo\", \"sd1.5\"]\n",
        "advenced_args = \"--share --attention-split --always-high-vram --disable-offload-from-vram --all-in-fp16\" #@param {type: \"string\"}\n",
        "\n",
        "if preset != \"deafult\":\n",
        "  args = f\"{advenced_args} --theme {theme} --preset {preset}\"\n",
        "else:\n",
        "  args = f\"{advenced_args} --theme {theme}\"\n",
        "\n",
        "!pip install -q pygit2==1.12.2\n",
        "%cd /content\n",
        "!git clone https://github.com/ehristoforu/DeFooocus.git\n",
        "%cd /content/DeFooocus\n",
        "!pip install -q -r requirements_versions.txt\n",
        "\n",
        "# print(\"[DeFooocus] Starting ...\")\n",
        "# !python entry_with_update.py $args"
      ]
    },
    {
      "cell_type": "code",
      "source": [
        "!cp -r \"/content/drive/MyDrive/Fooocus Data/models\" /content/DeFooocus"
      ],
      "metadata": {
        "id": "mCE3ebMuFyJc"
      },
      "execution_count": 6,
      "outputs": []
    },
    {
      "cell_type": "code",
      "source": [
        "print(\"[DeFooocus] Starting First Time\")\n",
        "!python entry_with_update.py $args"
      ],
      "metadata": {
        "collapsed": true,
        "id": "jCD82ArqUJzJ"
      },
      "execution_count": null,
      "outputs": []
    },
    {
      "cell_type": "code",
      "source": [
        "#!wget -O /content/DeFooocus/models/checkpoints/CyberRealisticPony_7a.safetensors https://huggingface.co/cyberdelia/CyberRealisticPony/resolve/main/CyberRealisticPony_V7a.safetensors?download=true\n",
        "\n",
        "\n",
        "\n"
      ],
      "metadata": {
        "colab": {
          "base_uri": "https://localhost:8080/"
        },
        "collapsed": true,
        "id": "MggdjX1TUJRO",
        "outputId": "478b4733-d9cb-49a4-e1f9-2164b68747fe"
      },
      "execution_count": null,
      "outputs": [
        {
          "output_type": "stream",
          "name": "stdout",
          "text": [
            "--2025-03-06 12:27:26--  https://huggingface.co/cyberdelia/CyberRealisticPony/resolve/main/CyberRealisticPony_V7a.safetensors?download=true\n",
            "Resolving huggingface.co (huggingface.co)... 108.138.246.79, 108.138.246.67, 108.138.246.71, ...\n",
            "Connecting to huggingface.co (huggingface.co)|108.138.246.79|:443... connected.\n",
            "HTTP request sent, awaiting response... 302 Found\n",
            "Location: https://cdn-lfs-us-1.hf.co/repos/e4/c1/e4c10b8977898187efea83ad67bcaffdff6f2b4649a82acc98c9f7503fe0cd33/3b5dce3bbb1d37ed9852aee4da46ddf750d25e923d3edc9796a4b4424ec336a4?response-content-disposition=attachment%3B+filename*%3DUTF-8%27%27CyberRealisticPony_V7a.safetensors%3B+filename%3D%22CyberRealisticPony_V7a.safetensors%22%3B&Expires=1741267647&Policy=eyJTdGF0ZW1lbnQiOlt7IkNvbmRpdGlvbiI6eyJEYXRlTGVzc1RoYW4iOnsiQVdTOkVwb2NoVGltZSI6MTc0MTI2NzY0N319LCJSZXNvdXJjZSI6Imh0dHBzOi8vY2RuLWxmcy11cy0xLmhmLmNvL3JlcG9zL2U0L2MxL2U0YzEwYjg5Nzc4OTgxODdlZmVhODNhZDY3YmNhZmZkZmY2ZjJiNDY0OWE4MmFjYzk4YzlmNzUwM2ZlMGNkMzMvM2I1ZGNlM2JiYjFkMzdlZDk4NTJhZWU0ZGE0NmRkZjc1MGQyNWU5MjNkM2VkYzk3OTZhNGI0NDI0ZWMzMzZhND9yZXNwb25zZS1jb250ZW50LWRpc3Bvc2l0aW9uPSoifV19&Signature=ER4pIoTVBa5ojfE%7EIiM4M0wG2yx%7EtUTSFCJU0STVlqiKsjTNa-Z4G-u%7E%7EeOfRUobEeuu46nD%7ECYMIgYjHqbSl9c13-U%7ECgGwTqcS8GlTgX6i6d8DNJ35Z77F%7EJQtntq5Xtw0JUUE1YC6sRSLCxaWU8r8iYQeRv%7ELqwx8r-2QwzHjoxjlDb3zDodT-Ch3Hy5tfs5bZNDpKyx%7EYFlWwD6kd4HehKv4N6v6JuF1qc02dWUO6Nyb6nBYoeiG1kifj3OI8A1wp0ZQ-GALL7TlVD3ezN1sbOcBfnAcfXdqQxkS%7EMmjqH5iUo0F%7EypCWRfeSj2H0jfcvH%7ECAItaf-vZyfc-ow__&Key-Pair-Id=K24J24Z295AEI9 [following]\n",
            "--2025-03-06 12:27:27--  https://cdn-lfs-us-1.hf.co/repos/e4/c1/e4c10b8977898187efea83ad67bcaffdff6f2b4649a82acc98c9f7503fe0cd33/3b5dce3bbb1d37ed9852aee4da46ddf750d25e923d3edc9796a4b4424ec336a4?response-content-disposition=attachment%3B+filename*%3DUTF-8%27%27CyberRealisticPony_V7a.safetensors%3B+filename%3D%22CyberRealisticPony_V7a.safetensors%22%3B&Expires=1741267647&Policy=eyJTdGF0ZW1lbnQiOlt7IkNvbmRpdGlvbiI6eyJEYXRlTGVzc1RoYW4iOnsiQVdTOkVwb2NoVGltZSI6MTc0MTI2NzY0N319LCJSZXNvdXJjZSI6Imh0dHBzOi8vY2RuLWxmcy11cy0xLmhmLmNvL3JlcG9zL2U0L2MxL2U0YzEwYjg5Nzc4OTgxODdlZmVhODNhZDY3YmNhZmZkZmY2ZjJiNDY0OWE4MmFjYzk4YzlmNzUwM2ZlMGNkMzMvM2I1ZGNlM2JiYjFkMzdlZDk4NTJhZWU0ZGE0NmRkZjc1MGQyNWU5MjNkM2VkYzk3OTZhNGI0NDI0ZWMzMzZhND9yZXNwb25zZS1jb250ZW50LWRpc3Bvc2l0aW9uPSoifV19&Signature=ER4pIoTVBa5ojfE%7EIiM4M0wG2yx%7EtUTSFCJU0STVlqiKsjTNa-Z4G-u%7E%7EeOfRUobEeuu46nD%7ECYMIgYjHqbSl9c13-U%7ECgGwTqcS8GlTgX6i6d8DNJ35Z77F%7EJQtntq5Xtw0JUUE1YC6sRSLCxaWU8r8iYQeRv%7ELqwx8r-2QwzHjoxjlDb3zDodT-Ch3Hy5tfs5bZNDpKyx%7EYFlWwD6kd4HehKv4N6v6JuF1qc02dWUO6Nyb6nBYoeiG1kifj3OI8A1wp0ZQ-GALL7TlVD3ezN1sbOcBfnAcfXdqQxkS%7EMmjqH5iUo0F%7EypCWRfeSj2H0jfcvH%7ECAItaf-vZyfc-ow__&Key-Pair-Id=K24J24Z295AEI9\n",
            "Resolving cdn-lfs-us-1.hf.co (cdn-lfs-us-1.hf.co)... 18.164.154.89, 18.164.154.57, 18.164.154.16, ...\n",
            "Connecting to cdn-lfs-us-1.hf.co (cdn-lfs-us-1.hf.co)|18.164.154.89|:443... connected.\n",
            "HTTP request sent, awaiting response... 200 OK\n",
            "Length: 6938040682 (6.5G) [binary/octet-stream]\n",
            "Saving to: ‘/content/DeFooocus/models/checkpoints/CyberRealisticPony_7a.safetensors’\n",
            "\n",
            "/content/DeFooocus/ 100%[===================>]   6.46G   178MB/s    in 47s     \n",
            "\n",
            "2025-03-06 12:28:14 (141 MB/s) - ‘/content/DeFooocus/models/checkpoints/CyberRealisticPony_7a.safetensors’ saved [6938040682/6938040682]\n",
            "\n"
          ]
        }
      ]
    },
    {
      "cell_type": "code",
      "source": [
        "!python webui.py $args"
      ],
      "metadata": {
        "collapsed": true,
        "id": "mdCPGxmoZfIK",
        "outputId": "545f7489-d865-414a-df11-3279bcc64af2",
        "colab": {
          "base_uri": "https://localhost:8080/"
        }
      },
      "execution_count": 9,
      "outputs": [
        {
          "output_type": "stream",
          "name": "stdout",
          "text": [
            "Traceback (most recent call last):\n",
            "  File \"/content/DeFooocus/webui.py\", line 1, in <module>\n",
            "    import gradio as gr\n",
            "  File \"/usr/local/lib/python3.11/dist-packages/gradio/__init__.py\", line 3, in <module>\n",
            "    import gradio.components as components\n",
            "  File \"/usr/local/lib/python3.11/dist-packages/gradio/components/__init__.py\", line 1, in <module>\n",
            "    from gradio.components.annotated_image import AnnotatedImage\n",
            "  File \"/usr/local/lib/python3.11/dist-packages/gradio/components/annotated_image.py\", line 12, in <module>\n",
            "    from gradio import utils\n",
            "  File \"/usr/local/lib/python3.11/dist-packages/gradio/utils.py\", line 37, in <module>\n",
            "    import matplotlib\n",
            "  File \"/usr/local/lib/python3.11/dist-packages/matplotlib/__init__.py\", line 161, in <module>\n",
            "    from . import _api, _version, cbook, _docstring, rcsetup\n",
            "  File \"/usr/local/lib/python3.11/dist-packages/matplotlib/rcsetup.py\", line 28, in <module>\n",
            "    from matplotlib.colors import Colormap, is_color_like\n",
            "  File \"/usr/local/lib/python3.11/dist-packages/matplotlib/colors.py\", line 57, in <module>\n",
            "    from matplotlib import _api, _cm, cbook, scale, _image\n",
            "  File \"/usr/local/lib/python3.11/dist-packages/matplotlib/scale.py\", line 22, in <module>\n",
            "    from matplotlib.ticker import (\n",
            "  File \"<frozen importlib._bootstrap>\", line 1176, in _find_and_load\n",
            "  File \"<frozen importlib._bootstrap>\", line 1147, in _find_and_load_unlocked\n",
            "  File \"<frozen importlib._bootstrap>\", line 690, in _load_unlocked\n",
            "  File \"<frozen importlib._bootstrap_external>\", line 936, in exec_module\n",
            "  File \"<frozen importlib._bootstrap_external>\", line 1032, in get_code\n",
            "  File \"<frozen importlib._bootstrap_external>\", line 1131, in get_data\n",
            "KeyboardInterrupt\n",
            "^C\n"
          ]
        }
      ]
    },
    {
      "cell_type": "markdown",
      "source": [
        "## Save DeFooocus"
      ],
      "metadata": {
        "id": "1Xi7mShgThAI"
      }
    },
    {
      "cell_type": "code",
      "source": [
        "!cp -r /content/DeFooocus /content/drive/MyDrive"
      ],
      "metadata": {
        "id": "8UuybqXAS1WV"
      },
      "execution_count": 11,
      "outputs": []
    },
    {
      "cell_type": "markdown",
      "source": [
        "## Load DeFooocus"
      ],
      "metadata": {
        "id": "ob03PlqpT-k3"
      }
    },
    {
      "cell_type": "code",
      "source": [
        "!cp -r /content/MyDrive/DeFooocus /content"
      ],
      "metadata": {
        "id": "1h9CDuDsT9hG"
      },
      "execution_count": null,
      "outputs": []
    }
  ],
  "metadata": {
    "accelerator": "GPU",
    "colab": {
      "gpuType": "T4",
      "provenance": [],
      "include_colab_link": true
    },
    "kernelspec": {
      "display_name": "Python 3",
      "name": "python3"
    },
    "language_info": {
      "name": "python"
    }
  },
  "nbformat": 4,
  "nbformat_minor": 0
}