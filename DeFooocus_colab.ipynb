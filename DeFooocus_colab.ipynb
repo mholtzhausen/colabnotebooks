{
  "cells": [
    {
      "cell_type": "markdown",
      "metadata": {
        "id": "view-in-github",
        "colab_type": "text"
      },
      "source": [
        "<a href=\"https://colab.research.google.com/github/mholtzhausen/colabnotebooks/blob/dev/DeFooocus_colab.ipynb\" target=\"_parent\"><img src=\"https://colab.research.google.com/assets/colab-badge.svg\" alt=\"Open In Colab\"/></a>"
      ]
    },
    {
      "cell_type": "code",
      "source": [
        "from google.colab import drive\n",
        "drive.mount('/content/drive')"
      ],
      "metadata": {
        "id": "keqdkpqjES5q",
        "outputId": "510aca19-2c61-47a1-e2e6-6866861279da",
        "colab": {
          "base_uri": "https://localhost:8080/"
        }
      },
      "execution_count": 1,
      "outputs": [
        {
          "output_type": "stream",
          "name": "stdout",
          "text": [
            "Mounted at /content/drive\n"
          ]
        }
      ]
    },
    {
      "cell_type": "code",
      "source": [
        "!apt-get install -y rsync"
      ],
      "metadata": {
        "id": "HlcpF2j7cWFx"
      },
      "execution_count": null,
      "outputs": []
    },
    {
      "cell_type": "code",
      "execution_count": 2,
      "metadata": {
        "id": "VjYy0F2gZIPR",
        "collapsed": true,
        "cellView": "form",
        "outputId": "7624b7ef-d423-4e16-8223-a51fa5abfbd7",
        "colab": {
          "base_uri": "https://localhost:8080/"
        }
      },
      "outputs": [
        {
          "output_type": "stream",
          "name": "stdout",
          "text": [
            "[DeFooocus] Preparing ...\n",
            "\u001b[2K   \u001b[90m━━━━━━━━━━━━━━━━━━━━━━━━━━━━━━━━━━━━━━━━\u001b[0m \u001b[32m4.9/4.9 MB\u001b[0m \u001b[31m92.1 MB/s\u001b[0m eta \u001b[36m0:00:00\u001b[0m\n",
            "\u001b[?25h/content\n",
            "Cloning into 'DeFooocus'...\n",
            "remote: Enumerating objects: 7029, done.\u001b[K\n",
            "remote: Counting objects: 100% (1266/1266), done.\u001b[K\n",
            "remote: Compressing objects: 100% (145/145), done.\u001b[K\n",
            "remote: Total 7029 (delta 1213), reused 1121 (delta 1121), pack-reused 5763 (from 1)\u001b[K\n",
            "Receiving objects: 100% (7029/7029), 47.17 MiB | 11.17 MiB/s, done.\n",
            "Resolving deltas: 100% (3918/3918), done.\n",
            "/content/DeFooocus\n",
            "\u001b[2K     \u001b[90m━━━━━━━━━━━━━━━━━━━━━━━━━━━━━━━━━━━━━━━\u001b[0m \u001b[32m113.6/113.6 kB\u001b[0m \u001b[31m8.0 MB/s\u001b[0m eta \u001b[36m0:00:00\u001b[0m\n",
            "\u001b[2K     \u001b[90m━━━━━━━━━━━━━━━━━━━━━━━━━━━━━━━━━━━━━━━━\u001b[0m \u001b[32m58.4/58.4 kB\u001b[0m \u001b[31m4.2 MB/s\u001b[0m eta \u001b[36m0:00:00\u001b[0m\n",
            "\u001b[2K     \u001b[90m━━━━━━━━━━━━━━━━━━━━━━━━━━━━━━━━━━━━━━━━\u001b[0m \u001b[32m57.0/57.0 kB\u001b[0m \u001b[31m4.4 MB/s\u001b[0m eta \u001b[36m0:00:00\u001b[0m\n",
            "\u001b[2K     \u001b[90m━━━━━━━━━━━━━━━━━━━━━━━━━━━━━━━━━━━━━━━━\u001b[0m \u001b[32m68.5/68.5 kB\u001b[0m \u001b[31m4.5 MB/s\u001b[0m eta \u001b[36m0:00:00\u001b[0m\n",
            "\u001b[2K     \u001b[90m━━━━━━━━━━━━━━━━━━━━━━━━━━━━━━━━━━━━━━━━\u001b[0m \u001b[32m68.5/68.5 kB\u001b[0m \u001b[31m5.6 MB/s\u001b[0m eta \u001b[36m0:00:00\u001b[0m\n",
            "\u001b[2K     \u001b[90m━━━━━━━━━━━━━━━━━━━━━━━━━━━━━━━━━━━━━━━━\u001b[0m \u001b[32m82.3/82.3 kB\u001b[0m \u001b[31m8.7 MB/s\u001b[0m eta \u001b[36m0:00:00\u001b[0m\n",
            "\u001b[?25h  Preparing metadata (setup.py) ... \u001b[?25l\u001b[?25hdone\n",
            "\u001b[2K     \u001b[90m━━━━━━━━━━━━━━━━━━━━━━━━━━━━━━━━━━━━━━━\u001b[0m \u001b[32m117.0/117.0 kB\u001b[0m \u001b[31m6.4 MB/s\u001b[0m eta \u001b[36m0:00:00\u001b[0m\n",
            "\u001b[?25h  Preparing metadata (setup.py) ... \u001b[?25l\u001b[?25hdone\n",
            "  Preparing metadata (setup.py) ... \u001b[?25l\u001b[?25hdone\n",
            "\u001b[2K     \u001b[90m━━━━━━━━━━━━━━━━━━━━━━━━━━━━━━━━━━━━━━━━\u001b[0m \u001b[32m46.8/46.8 kB\u001b[0m \u001b[31m3.8 MB/s\u001b[0m eta \u001b[36m0:00:00\u001b[0m\n",
            "\u001b[2K   \u001b[90m━━━━━━━━━━━━━━━━━━━━━━━━━━━━━━━━━━━━━━━━\u001b[0m \u001b[32m61.2/61.2 kB\u001b[0m \u001b[31m4.7 MB/s\u001b[0m eta \u001b[36m0:00:00\u001b[0m\n",
            "\u001b[2K   \u001b[90m━━━━━━━━━━━━━━━━━━━━━━━━━━━━━━━━━━━━━━━━\u001b[0m \u001b[32m7.2/7.2 MB\u001b[0m \u001b[31m78.2 MB/s\u001b[0m eta \u001b[36m0:00:00\u001b[0m\n",
            "\u001b[2K   \u001b[90m━━━━━━━━━━━━━━━━━━━━━━━━━━━━━━━━━━━━━━━━\u001b[0m \u001b[32m1.3/1.3 MB\u001b[0m \u001b[31m57.2 MB/s\u001b[0m eta \u001b[36m0:00:00\u001b[0m\n",
            "\u001b[2K   \u001b[90m━━━━━━━━━━━━━━━━━━━━━━━━━━━━━━━━━━━━━━━━\u001b[0m \u001b[32m244.2/244.2 kB\u001b[0m \u001b[31m20.2 MB/s\u001b[0m eta \u001b[36m0:00:00\u001b[0m\n",
            "\u001b[2K   \u001b[90m━━━━━━━━━━━━━━━━━━━━━━━━━━━━━━━━━━━━━━━━\u001b[0m \u001b[32m757.9/757.9 kB\u001b[0m \u001b[31m47.3 MB/s\u001b[0m eta \u001b[36m0:00:00\u001b[0m\n",
            "\u001b[2K   \u001b[90m━━━━━━━━━━━━━━━━━━━━━━━━━━━━━━━━━━━━━━━━\u001b[0m \u001b[32m3.2/3.2 MB\u001b[0m \u001b[31m53.6 MB/s\u001b[0m eta \u001b[36m0:00:00\u001b[0m\n",
            "\u001b[2K   \u001b[90m━━━━━━━━━━━━━━━━━━━━━━━━━━━━━━━━━━━━━━━━\u001b[0m \u001b[32m33.4/33.4 MB\u001b[0m \u001b[31m55.9 MB/s\u001b[0m eta \u001b[36m0:00:00\u001b[0m\n",
            "\u001b[2K   \u001b[90m━━━━━━━━━━━━━━━━━━━━━━━━━━━━━━━━━━━━━━━━\u001b[0m \u001b[32m77.1/77.1 kB\u001b[0m \u001b[31m6.2 MB/s\u001b[0m eta \u001b[36m0:00:00\u001b[0m\n",
            "\u001b[2K   \u001b[90m━━━━━━━━━━━━━━━━━━━━━━━━━━━━━━━━━━━━━━━━\u001b[0m \u001b[32m827.8/827.8 kB\u001b[0m \u001b[31m49.0 MB/s\u001b[0m eta \u001b[36m0:00:00\u001b[0m\n",
            "\u001b[2K   \u001b[90m━━━━━━━━━━━━━━━━━━━━━━━━━━━━━━━━━━━━━━━━\u001b[0m \u001b[32m79.3/79.3 kB\u001b[0m \u001b[31m4.6 MB/s\u001b[0m eta \u001b[36m0:00:00\u001b[0m\n",
            "\u001b[2K   \u001b[90m━━━━━━━━━━━━━━━━━━━━━━━━━━━━━━━━━━━━━━━━\u001b[0m \u001b[32m20.1/20.1 MB\u001b[0m \u001b[31m84.0 MB/s\u001b[0m eta \u001b[36m0:00:00\u001b[0m\n",
            "\u001b[2K   \u001b[90m━━━━━━━━━━━━━━━━━━━━━━━━━━━━━━━━━━━━━━━━\u001b[0m \u001b[32m67.8/67.8 MB\u001b[0m \u001b[31m28.7 MB/s\u001b[0m eta \u001b[36m0:00:00\u001b[0m\n",
            "\u001b[2K   \u001b[90m━━━━━━━━━━━━━━━━━━━━━━━━━━━━━━━━━━━━━━━━\u001b[0m \u001b[32m1.8/1.8 MB\u001b[0m \u001b[31m74.2 MB/s\u001b[0m eta \u001b[36m0:00:00\u001b[0m\n",
            "\u001b[2K   \u001b[90m━━━━━━━━━━━━━━━━━━━━━━━━━━━━━━━━━━━━━━━━\u001b[0m \u001b[32m75.4/75.4 kB\u001b[0m \u001b[31m6.5 MB/s\u001b[0m eta \u001b[36m0:00:00\u001b[0m\n",
            "\u001b[2K   \u001b[90m━━━━━━━━━━━━━━━━━━━━━━━━━━━━━━━━━━━━━━━━\u001b[0m \u001b[32m6.4/6.4 MB\u001b[0m \u001b[31m94.1 MB/s\u001b[0m eta \u001b[36m0:00:00\u001b[0m\n",
            "\u001b[2K   \u001b[90m━━━━━━━━━━━━━━━━━━━━━━━━━━━━━━━━━━━━━━━━\u001b[0m \u001b[32m2.2/2.2 MB\u001b[0m \u001b[31m75.8 MB/s\u001b[0m eta \u001b[36m0:00:00\u001b[0m\n",
            "\u001b[2K   \u001b[90m━━━━━━━━━━━━━━━━━━━━━━━━━━━━━━━━━━━━━━━━\u001b[0m \u001b[32m54.7/54.7 kB\u001b[0m \u001b[31m4.1 MB/s\u001b[0m eta \u001b[36m0:00:00\u001b[0m\n",
            "\u001b[2K   \u001b[90m━━━━━━━━━━━━━━━━━━━━━━━━━━━━━━━━━━━━━━━━\u001b[0m \u001b[32m436.4/436.4 kB\u001b[0m \u001b[31m35.5 MB/s\u001b[0m eta \u001b[36m0:00:00\u001b[0m\n",
            "\u001b[2K   \u001b[90m━━━━━━━━━━━━━━━━━━━━━━━━━━━━━━━━━━━━━━━━\u001b[0m \u001b[32m298.2/298.2 kB\u001b[0m \u001b[31m17.7 MB/s\u001b[0m eta \u001b[36m0:00:00\u001b[0m\n",
            "\u001b[2K   \u001b[90m━━━━━━━━━━━━━━━━━━━━━━━━━━━━━━━━━━━━━━━━\u001b[0m \u001b[32m74.5/74.5 kB\u001b[0m \u001b[31m6.6 MB/s\u001b[0m eta \u001b[36m0:00:00\u001b[0m\n",
            "\u001b[2K   \u001b[90m━━━━━━━━━━━━━━━━━━━━━━━━━━━━━━━━━━━━━━━━\u001b[0m \u001b[32m18.2/18.2 MB\u001b[0m \u001b[31m95.7 MB/s\u001b[0m eta \u001b[36m0:00:00\u001b[0m\n",
            "\u001b[2K   \u001b[90m━━━━━━━━━━━━━━━━━━━━━━━━━━━━━━━━━━━━━━━━\u001b[0m \u001b[32m82.1/82.1 kB\u001b[0m \u001b[31m6.9 MB/s\u001b[0m eta \u001b[36m0:00:00\u001b[0m\n",
            "\u001b[2K   \u001b[90m━━━━━━━━━━━━━━━━━━━━━━━━━━━━━━━━━━━━━━━━\u001b[0m \u001b[32m7.8/7.8 MB\u001b[0m \u001b[31m106.4 MB/s\u001b[0m eta \u001b[36m0:00:00\u001b[0m\n",
            "\u001b[2K   \u001b[90m━━━━━━━━━━━━━━━━━━━━━━━━━━━━━━━━━━━━━━━━\u001b[0m \u001b[32m363.4/363.4 MB\u001b[0m \u001b[31m2.2 MB/s\u001b[0m eta \u001b[36m0:00:00\u001b[0m\n",
            "\u001b[2K   \u001b[90m━━━━━━━━━━━━━━━━━━━━━━━━━━━━━━━━━━━━━━━━\u001b[0m \u001b[32m13.8/13.8 MB\u001b[0m \u001b[31m107.3 MB/s\u001b[0m eta \u001b[36m0:00:00\u001b[0m\n",
            "\u001b[2K   \u001b[90m━━━━━━━━━━━━━━━━━━━━━━━━━━━━━━━━━━━━━━━━\u001b[0m \u001b[32m24.6/24.6 MB\u001b[0m \u001b[31m88.7 MB/s\u001b[0m eta \u001b[36m0:00:00\u001b[0m\n",
            "\u001b[2K   \u001b[90m━━━━━━━━━━━━━━━━━━━━━━━━━━━━━━━━━━━━━━━━\u001b[0m \u001b[32m883.7/883.7 kB\u001b[0m \u001b[31m51.2 MB/s\u001b[0m eta \u001b[36m0:00:00\u001b[0m\n",
            "\u001b[2K   \u001b[90m━━━━━━━━━━━━━━━━━━━━━━━━━━━━━━━━━━━━━━━━\u001b[0m \u001b[32m664.8/664.8 MB\u001b[0m \u001b[31m1.6 MB/s\u001b[0m eta \u001b[36m0:00:00\u001b[0m\n",
            "\u001b[2K   \u001b[90m━━━━━━━━━━━━━━━━━━━━━━━━━━━━━━━━━━━━━━━━\u001b[0m \u001b[32m211.5/211.5 MB\u001b[0m \u001b[31m3.8 MB/s\u001b[0m eta \u001b[36m0:00:00\u001b[0m\n",
            "\u001b[2K   \u001b[90m━━━━━━━━━━━━━━━━━━━━━━━━━━━━━━━━━━━━━━━━\u001b[0m \u001b[32m56.3/56.3 MB\u001b[0m \u001b[31m34.0 MB/s\u001b[0m eta \u001b[36m0:00:00\u001b[0m\n",
            "\u001b[2K   \u001b[90m━━━━━━━━━━━━━━━━━━━━━━━━━━━━━━━━━━━━━━━━\u001b[0m \u001b[32m127.9/127.9 MB\u001b[0m \u001b[31m16.6 MB/s\u001b[0m eta \u001b[36m0:00:00\u001b[0m\n",
            "\u001b[2K   \u001b[90m━━━━━━━━━━━━━━━━━━━━━━━━━━━━━━━━━━━━━━━━\u001b[0m \u001b[32m207.5/207.5 MB\u001b[0m \u001b[31m4.0 MB/s\u001b[0m eta \u001b[36m0:00:00\u001b[0m\n",
            "\u001b[2K   \u001b[90m━━━━━━━━━━━━━━━━━━━━━━━━━━━━━━━━━━━━━━━━\u001b[0m \u001b[32m21.1/21.1 MB\u001b[0m \u001b[31m83.7 MB/s\u001b[0m eta \u001b[36m0:00:00\u001b[0m\n",
            "\u001b[2K   \u001b[90m━━━━━━━━━━━━━━━━━━━━━━━━━━━━━━━━━━━━━━━━\u001b[0m \u001b[32m961.5/961.5 kB\u001b[0m \u001b[31m52.3 MB/s\u001b[0m eta \u001b[36m0:00:00\u001b[0m\n",
            "\u001b[2K   \u001b[90m━━━━━━━━━━━━━━━━━━━━━━━━━━━━━━━━━━━━━━━━\u001b[0m \u001b[32m62.3/62.3 kB\u001b[0m \u001b[31m5.3 MB/s\u001b[0m eta \u001b[36m0:00:00\u001b[0m\n",
            "\u001b[2K   \u001b[90m━━━━━━━━━━━━━━━━━━━━━━━━━━━━━━━━━━━━━━━━\u001b[0m \u001b[32m130.6/130.6 kB\u001b[0m \u001b[31m11.9 MB/s\u001b[0m eta \u001b[36m0:00:00\u001b[0m\n",
            "\u001b[2K   \u001b[90m━━━━━━━━━━━━━━━━━━━━━━━━━━━━━━━━━━━━━━━━\u001b[0m \u001b[32m46.0/46.0 kB\u001b[0m \u001b[31m4.0 MB/s\u001b[0m eta \u001b[36m0:00:00\u001b[0m\n",
            "\u001b[2K   \u001b[90m━━━━━━━━━━━━━━━━━━━━━━━━━━━━━━━━━━━━━━━━\u001b[0m \u001b[32m95.2/95.2 kB\u001b[0m \u001b[31m7.9 MB/s\u001b[0m eta \u001b[36m0:00:00\u001b[0m\n",
            "\u001b[2K   \u001b[90m━━━━━━━━━━━━━━━━━━━━━━━━━━━━━━━━━━━━━━━━\u001b[0m \u001b[32m54.5/54.5 kB\u001b[0m \u001b[31m4.6 MB/s\u001b[0m eta \u001b[36m0:00:00\u001b[0m\n",
            "\u001b[2K   \u001b[90m━━━━━━━━━━━━━━━━━━━━━━━━━━━━━━━━━━━━━━━━\u001b[0m \u001b[32m14.9/14.9 MB\u001b[0m \u001b[31m108.9 MB/s\u001b[0m eta \u001b[36m0:00:00\u001b[0m\n",
            "\u001b[2K   \u001b[90m━━━━━━━━━━━━━━━━━━━━━━━━━━━━━━━━━━━━━━━━\u001b[0m \u001b[32m256.2/256.2 kB\u001b[0m \u001b[31m20.7 MB/s\u001b[0m eta \u001b[36m0:00:00\u001b[0m\n",
            "\u001b[2K   \u001b[90m━━━━━━━━━━━━━━━━━━━━━━━━━━━━━━━━━━━━━━━━\u001b[0m \u001b[32m119.4/119.4 kB\u001b[0m \u001b[31m10.6 MB/s\u001b[0m eta \u001b[36m0:00:00\u001b[0m\n",
            "\u001b[2K   \u001b[90m━━━━━━━━━━━━━━━━━━━━━━━━━━━━━━━━━━━━━━━━\u001b[0m \u001b[32m86.8/86.8 kB\u001b[0m \u001b[31m7.3 MB/s\u001b[0m eta \u001b[36m0:00:00\u001b[0m\n",
            "\u001b[2K   \u001b[90m━━━━━━━━━━━━━━━━━━━━━━━━━━━━━━━━━━━━━━━━\u001b[0m \u001b[32m144.3/144.3 kB\u001b[0m \u001b[31m11.8 MB/s\u001b[0m eta \u001b[36m0:00:00\u001b[0m\n",
            "\u001b[2K   \u001b[90m━━━━━━━━━━━━━━━━━━━━━━━━━━━━━━━━━━━━━━━━\u001b[0m \u001b[32m56.8/56.8 kB\u001b[0m \u001b[31m5.1 MB/s\u001b[0m eta \u001b[36m0:00:00\u001b[0m\n",
            "\u001b[2K   \u001b[90m━━━━━━━━━━━━━━━━━━━━━━━━━━━━━━━━━━━━━━━━\u001b[0m \u001b[32m72.0/72.0 kB\u001b[0m \u001b[31m6.3 MB/s\u001b[0m eta \u001b[36m0:00:00\u001b[0m\n",
            "\u001b[?25h  Building wheel for groundingdino-py (setup.py) ... \u001b[?25l\u001b[?25hdone\n",
            "  Building wheel for antlr4-python3-runtime (setup.py) ... \u001b[?25l\u001b[?25hdone\n",
            "  Building wheel for PyExecJS (setup.py) ... \u001b[?25l\u001b[?25hdone\n",
            "\u001b[31mERROR: pip's dependency resolver does not currently take into account all the packages that are installed. This behaviour is the source of the following dependency conflicts.\n",
            "albumentations 2.0.5 requires scipy>=1.10.0, but you have scipy 1.9.3 which is incompatible.\n",
            "tensorflow 2.18.0 requires numpy<2.1.0,>=1.26.0, but you have numpy 1.25.2 which is incompatible.\n",
            "cvxpy 1.6.4 requires scipy>=1.11.0, but you have scipy 1.9.3 which is incompatible.\n",
            "imbalanced-learn 0.13.0 requires scipy<2,>=1.10.1, but you have scipy 1.9.3 which is incompatible.\n",
            "jax 0.5.2 requires scipy>=1.11.1, but you have scipy 1.9.3 which is incompatible.\n",
            "jaxlib 0.5.1 requires scipy>=1.11.1, but you have scipy 1.9.3 which is incompatible.\n",
            "thinc 8.3.6 requires numpy<3.0.0,>=2.0.0, but you have numpy 1.25.2 which is incompatible.\n",
            "google-genai 1.9.0 requires httpx<1.0.0,>=0.28.1, but you have httpx 0.24.1 which is incompatible.\n",
            "google-genai 1.9.0 requires websockets<15.1.0,>=13.0.0, but you have websockets 11.0.3 which is incompatible.\n",
            "sentence-transformers 3.4.1 requires transformers<5.0.0,>=4.41.0, but you have transformers 4.30.2 which is incompatible.\n",
            "blosc2 3.2.1 requires numpy>=1.26, but you have numpy 1.25.2 which is incompatible.\u001b[0m\u001b[31m\n",
            "\u001b[0m"
          ]
        }
      ],
      "source": [
        "#@title DeFooocus\n",
        "#@markdown **Launch the interface DeFocus (Fooocus fork)** | You need to connect with T4/A100/V100\n",
        "#@markdown ****\n",
        "#@markdown *Attention!* When working in the interface with the FaceSwap and CPDS controlnet, crashes are possible; it is also recommended to work in *Extreme speed* mode for additional stability. When working with the ImagePrompt and PyraCanny controls, 85% of the work will be stable.\n",
        "#@markdown ****\n",
        "\n",
        "print(\"[DeFooocus] Preparing ...\")\n",
        "\n",
        "theme = \"dark\" #@param [\"dark\", \"light\"]\n",
        "preset = \"PD\" #@param [\"deafult\", \"PD\", \"realistic\", \"anime\", \"lcm\", \"sai\", \"turbo\", \"lighting\", \"hypersd\", \"playground_v2.5\", \"dpo\", \"spo\", \"sd1.5\"]\n",
        "advenced_args = \"--share --attention-split --always-high-vram --disable-offload-from-vram --all-in-fp16\" #@param {type: \"string\"}\n",
        "\n",
        "if preset != \"deafult\":\n",
        "  args = f\"{advenced_args} --theme {theme} --preset {preset}\"\n",
        "else:\n",
        "  args = f\"{advenced_args} --theme {theme}\"\n",
        "\n",
        "!pip install -q pygit2==1.12.2\n",
        "%cd /content\n",
        "!git clone https://github.com/ehristoforu/DeFooocus.git\n",
        "%cd /content/DeFooocus\n",
        "!pip install -q -r requirements_versions.txt\n",
        "\n",
        "# print(\"[DeFooocus] Starting ...\")\n",
        "# !python entry_with_update.py $args"
      ]
    },
    {
      "cell_type": "markdown",
      "source": [
        "## Load DeFooocus"
      ],
      "metadata": {
        "id": "ob03PlqpT-k3"
      }
    },
    {
      "cell_type": "code",
      "source": [
        "# !cp -r /content/drive/MyDrive/DeFooocus /\n",
        "!rsync -avh --progress /content/drive/MyDrive/DeFooocus/presets /content/DeFooocus\n",
        "# !rsync -avh --progress /content/drive/MyDrive/DeFooocus/models /content/DeFooocus\n",
        "!rsync -avh --progress --include='*.safetensors' --include='*/' --exclude='*' /content/drive/MyDrive/DeFooocus/models/ /content/DeFooocus/models/\n",
        "\n"
      ],
      "metadata": {
        "id": "1h9CDuDsT9hG",
        "outputId": "453dbcb3-51ff-403e-f57f-ab97dfc802b6",
        "colab": {
          "base_uri": "https://localhost:8080/"
        }
      },
      "execution_count": 4,
      "outputs": [
        {
          "output_type": "stream",
          "name": "stdout",
          "text": [
            "sending incremental file list\n",
            "presets/\n",
            "presets/PD.json\n",
            "\r          1.37K 100%    0.00kB/s    0:00:00  \r          1.37K 100%    0.00kB/s    0:00:00 (xfr#1, to-chk=13/15)\n",
            "presets/anime.json\n",
            "\r          1.13K 100%  157.92kB/s    0:00:00  \r          1.13K 100%  157.92kB/s    0:00:00 (xfr#2, to-chk=12/15)\n",
            "presets/default.json\n",
            "\r          1.44K 100%  156.03kB/s    0:00:00  \r          1.44K 100%  156.03kB/s    0:00:00 (xfr#3, to-chk=11/15)\n",
            "presets/dpo.json\n",
            "\r          1.59K 100%  155.37kB/s    0:00:00  \r          1.59K 100%  155.37kB/s    0:00:00 (xfr#4, to-chk=10/15)\n",
            "presets/hypersd.json\n",
            "\r          1.27K 100%   95.55kB/s    0:00:00  \r          1.27K 100%   95.55kB/s    0:00:00 (xfr#5, to-chk=9/15)\n",
            "presets/lcm.json\n",
            "\r          1.23K 100%   80.08kB/s    0:00:00  \r          1.23K 100%   80.08kB/s    0:00:00 (xfr#6, to-chk=8/15)\n",
            "presets/lightning.json\n",
            "\r          1.34K 100%   81.67kB/s    0:00:00  \r          1.34K 100%   81.67kB/s    0:00:00 (xfr#7, to-chk=7/15)\n",
            "presets/playground_v2.5.json\n",
            "\r          1.23K 100%   70.48kB/s    0:00:00  \r          1.23K 100%   70.48kB/s    0:00:00 (xfr#8, to-chk=6/15)\n",
            "presets/realistic.json\n",
            "\r          1.55K 100%   68.67kB/s    0:00:00  \r          1.55K 100%   68.67kB/s    0:00:00 (xfr#9, to-chk=5/15)\n",
            "presets/sai.json\n",
            "\r          1.54K 100%   62.74kB/s    0:00:00  \r          1.54K 100%   62.74kB/s    0:00:00 (xfr#10, to-chk=4/15)\n",
            "presets/sd1.5.json\n",
            "\r          1.28K 100%   48.04kB/s    0:00:00  \r          1.28K 100%   48.04kB/s    0:00:00 (xfr#11, to-chk=3/15)\n",
            "presets/spo.json\n",
            "\r          1.59K 100%   53.58kB/s    0:00:00  \r          1.59K 100%   53.58kB/s    0:00:00 (xfr#12, to-chk=2/15)\n",
            "presets/turbo.json\n",
            "\r          1.17K 100%   35.80kB/s    0:00:00  \r          1.17K 100%   35.80kB/s    0:00:00 (xfr#13, to-chk=1/15)\n",
            "presets/.ipynb_checkpoints/\n",
            "\n",
            "sent 18.68K bytes  received 275 bytes  37.91K bytes/sec\n",
            "total size is 17.73K  speedup is 0.94\n",
            "sending incremental file list\n",
            "./\n",
            "checkpoints/\n",
            "checkpoints/indecentRealismFor_v20.safetensors\n",
            "          6.94G 100%  250.71MB/s    0:00:26 (xfr#1, to-chk=23/43)\n",
            "checkpoints/realisticStockPhoto_v20.safetensors\n",
            "          6.94G 100%   80.88MB/s    0:01:21 (xfr#2, to-chk=22/43)\n",
            "checkpoints/.ipynb_checkpoints/\n",
            "clip/\n",
            "clip_vision/\n",
            "clip_vision/clip_vision_vit_h.safetensors\n",
            "          1.97G 100%   41.15MB/s    0:00:45 (xfr#3, to-chk=20/43)\n",
            "configs/\n",
            "controlnet/\n",
            "controlnet/control-lora-canny-rank128.safetensors\n",
            "        395.73M 100%   39.57MB/s    0:00:09 (xfr#4, to-chk=19/43)\n",
            "controlnet/fooocus_ip_negative.safetensors\n",
            "         65.62K 100%   57.62kB/s    0:00:01 (xfr#5, to-chk=18/43)\n",
            "controlnet/fooocus_xl_cpds_128.safetensors\n",
            "        395.71M 100%   37.14MB/s    0:00:10 (xfr#6, to-chk=17/43)\n",
            "diffusers/\n",
            "embeddings/\n",
            "gligen/\n",
            "hypernetworks/\n",
            "inpaint/\n",
            "loras/\n",
            "loras/Age Slider V2_alpha1.0_rank4_noxattn_last.safetensors\n",
            "          8.79M 100%    4.25MB/s    0:00:01 (xfr#7, to-chk=16/43)\n",
            "loras/Breast Slider - Pony_alpha1.0_rank4_noxattn_last.safetensors\n",
            "          8.79M 100%    4.08MB/s    0:00:02 (xfr#8, to-chk=15/43)\n",
            "loras/Expressive_H-000001.safetensors\n",
            "        228.45M 100%   10.07MB/s    0:00:21 (xfr#9, to-chk=14/43)\n",
            "loras/Pony Realism Slider.safetensors\n",
            "          5.46M 100%   36.17MB/s    0:00:00 (xfr#10, to-chk=13/43)\n",
            "loras/SDXL_FILM_PHOTOGRAPHY_STYLE_BetaV0.4.safetensors\n",
            "        232.96M 100%    8.18MB/s    0:00:27 (xfr#11, to-chk=12/43)\n",
            "loras/StS_age_slider_v1_initial_release.safetensors\n",
            "         43.61M 100%   12.22MB/s    0:00:03 (xfr#12, to-chk=11/43)\n",
            "loras/YouthfulPonyXL_v1.safetensors\n",
            "        340.78M 100%   55.84MB/s    0:00:05 (xfr#13, to-chk=10/43)\n",
            "loras/add-detail-xl.safetensors\n",
            "        228.45M 100%   15.13MB/s    0:00:14 (xfr#14, to-chk=9/43)\n",
            "loras/age-mimimeter.safetensors\n",
            "         52.40M 100%    7.99MB/s    0:00:06 (xfr#15, to-chk=8/43)\n",
            "loras/agepony8.safetensors\n",
            "          8.79M 100%   16.37MB/s    0:00:00 (xfr#16, to-chk=7/43)\n",
            "loras/bed3.safetensors\n",
            "        228.45M 100%    9.29MB/s    0:00:23 (xfr#17, to-chk=6/43)\n",
            "loras/princess_xl_v2.safetensors\n",
            "        228.52M 100%    9.08MB/s    0:00:23 (xfr#18, to-chk=5/43)\n",
            "loras/sdxl_lcm_lora.safetensors\n",
            "        393.85M 100%   38.59MB/s    0:00:09 (xfr#19, to-chk=4/43)\n",
            "loras/sdxl_lightning_4step_lora.safetensors\n",
            "        393.85M 100%   30.30MB/s    0:00:12 (xfr#20, to-chk=3/43)\n",
            "loras/.ipynb_checkpoints/\n",
            "prompt_expansion/\n",
            "prompt_expansion/fooocus_expansion/\n",
            "safety_checker_models/\n",
            "style_models/\n",
            "unet/\n",
            "upscale_models/\n",
            "vae/\n",
            "vae_approx/\n",
            "vae_approx/xl-to-v1_interposer-v3.1.safetensors\n",
            "          6.55M 100%    3.34MB/s    0:00:01 (xfr#21, to-chk=0/43)\n",
            "\n",
            "sent 19.05G bytes  received 522 bytes  57.48M bytes/sec\n",
            "total size is 19.05G  speedup is 1.00\n"
          ]
        }
      ]
    },
    {
      "cell_type": "markdown",
      "source": [
        "## Start"
      ],
      "metadata": {
        "id": "ij8ZGqZfGzIB"
      }
    },
    {
      "cell_type": "code",
      "source": [
        "print(\"[DeFooocus] Starting First Time\")\n",
        "!python /content/DeFooocus/entry_with_update.py $args"
      ],
      "metadata": {
        "collapsed": true,
        "id": "jCD82ArqUJzJ",
        "outputId": "2af273ea-1e1b-4768-8e52-961db225d986",
        "colab": {
          "base_uri": "https://localhost:8080/"
        }
      },
      "execution_count": 6,
      "outputs": [
        {
          "output_type": "stream",
          "name": "stdout",
          "text": [
            "Keyboard interruption in main thread... closing server.\n",
            "Traceback (most recent call last):\n",
            "  File \"/usr/local/lib/python3.11/dist-packages/gradio/blocks.py\", line 2199, in block_thread\n",
            "    time.sleep(0.1)\n",
            "KeyboardInterrupt\n",
            "\n",
            "During handling of the above exception, another exception occurred:\n",
            "\n",
            "Traceback (most recent call last):\n",
            "  File \"/content/DeFooocus/entry_with_update.py\", line 46, in <module>\n",
            "    from launch import *\n",
            "  File \"/content/DeFooocus/launch.py\", line 128, in <module>\n",
            "    from webui import *\n",
            "  File \"/content/DeFooocus/webui.py\", line 869, in <module>\n",
            "    shared.gradio_root.launch(\n",
            "  File \"/usr/local/lib/python3.11/dist-packages/gradio/blocks.py\", line 2115, in launch\n",
            "    self.block_thread()\n",
            "  File \"/usr/local/lib/python3.11/dist-packages/gradio/blocks.py\", line 2201, in block_thread\n",
            "    print(\"Keyboard interruption in main thread... closing server.\")\n",
            "  File \"/usr/local/lib/python3.11/dist-packages/wandb/sdk/lib/console_capture.py\", line 147, in write_with_callbacks\n",
            "    n = orig_write(s)\n",
            "        ^^^^^^^^^^^^^\n",
            "KeyboardInterrupt\n",
            "Killing tunnel 127.0.0.1:7865 <> https://5732cce9df1e0fd2ea.gradio.live\n"
          ]
        }
      ]
    },
    {
      "cell_type": "markdown",
      "source": [
        "## Restart DeFooocus"
      ],
      "metadata": {
        "id": "hdOiI0gHA_1A"
      }
    },
    {
      "cell_type": "code",
      "source": [
        "%cd /content/DeFooocus\n",
        "!pip install -q -r requirements_versions.txt\n",
        "!python webui.py $args"
      ],
      "metadata": {
        "collapsed": true,
        "id": "mdCPGxmoZfIK",
        "outputId": "b1e74ba1-4640-48ff-dce5-3b6cefac48d1",
        "colab": {
          "base_uri": "https://localhost:8080/"
        }
      },
      "execution_count": null,
      "outputs": [
        {
          "output_type": "stream",
          "name": "stdout",
          "text": [
            "Keyboard interruption in main thread... closing server.\n",
            "Traceback (most recent call last):\n",
            "  File \"/usr/local/lib/python3.11/dist-packages/gradio/blocks.py\", line 2199, in block_thread\n",
            "    time.sleep(0.1)\n",
            "KeyboardInterrupt\n",
            "\n",
            "During handling of the above exception, another exception occurred:\n",
            "\n",
            "Traceback (most recent call last):\n",
            "  File \"/content/DeFooocus/webui.py\", line 20, in <module>\n",
            "    import launch\n",
            "  File \"/content/DeFooocus/launch.py\", line 128, in <module>\n",
            "    from webui import *\n",
            "  File \"/content/DeFooocus/webui.py\", line 869, in <module>\n",
            "    shared.gradio_root.launch(\n",
            "  File \"/usr/local/lib/python3.11/dist-packages/gradio/blocks.py\", line 2115, in launch\n",
            "    self.block_thread()\n",
            "  File \"/usr/local/lib/python3.11/dist-packages/gradio/blocks.py\", line 2201, in block_thread\n",
            "    print(\"Keyboard interruption in main thread... closing server.\")\n",
            "  File \"/usr/local/lib/python3.11/dist-packages/wandb/sdk/lib/console_capture.py\", line 147, in write_with_callbacks\n",
            "    n = orig_write(s)\n",
            "        ^^^^^^^^^^^^^\n",
            "KeyboardInterrupt\n",
            "Killing tunnel 127.0.0.1:7860 <> https://90b468f8122a91da63.gradio.live\n"
          ]
        }
      ]
    },
    {
      "cell_type": "markdown",
      "source": [
        "## Delete DeFooocus"
      ],
      "metadata": {
        "id": "pTN9uI-xGIdj"
      }
    },
    {
      "cell_type": "code",
      "source": [
        "!rm -r /content/DeFooocus/"
      ],
      "metadata": {
        "id": "LV0AJXklUfg8"
      },
      "execution_count": null,
      "outputs": []
    },
    {
      "cell_type": "markdown",
      "source": [
        "## Zip Outputs"
      ],
      "metadata": {
        "id": "r0GhDV_3Aqzs"
      }
    },
    {
      "cell_type": "code",
      "source": [
        "import os\n",
        "import zipfile\n",
        "\n",
        "def zip_folders(folder_path, zip_folder=None):\n",
        "  \"\"\"Zips all subfolders in a folder and names the zip files the same as the folders.\n",
        "\n",
        "  Args:\n",
        "    folder_path: The path to the folder containing the subfolders to zip.\n",
        "    zip_folder: The path to store the zip files. If not specified, defaults to folder_path.\n",
        "  \"\"\"\n",
        "  if zip_folder is None:\n",
        "    zip_folder = folder_path\n",
        "\n",
        "  for folder_name in os.listdir(folder_path):\n",
        "    folder_to_zip = os.path.join(folder_path, folder_name)\n",
        "    if os.path.isdir(folder_to_zip):\n",
        "      zip_file_name = os.path.join(zip_folder, folder_name + '.zip')\n",
        "      with zipfile.ZipFile(zip_file_name, 'w', zipfile.ZIP_DEFLATED) as zipf:\n",
        "        for root, _, files in os.walk(folder_to_zip):\n",
        "          for file in files:\n",
        "            file_path = os.path.join(root, file)\n",
        "            arcname = os.path.relpath(file_path, folder_to_zip)\n",
        "            zipf.write(file_path, arcname)\n",
        "      print(f\"Zipped {folder_name} to {zip_file_name}\")\n",
        "\n",
        "# Example usage:\n",
        "folder_path = '/content/DeFooocus/outputs'\n",
        "zip_folder = '/content/DeFooocus_zips'\n",
        "if not os.path.exists(zip_folder):\n",
        "  os.makedirs(zip_folder)  # Specify zip folder if needed\n",
        "\n",
        "zip_folders(folder_path, zip_folder)"
      ],
      "metadata": {
        "id": "-873un8L_HCX",
        "outputId": "3f67672a-39a7-4b61-9109-7cbe8d913d14",
        "colab": {
          "base_uri": "https://localhost:8080/"
        }
      },
      "execution_count": 7,
      "outputs": [
        {
          "output_type": "stream",
          "name": "stdout",
          "text": [
            "Zipped 2025-04-11 to /content/DeFooocus_zips/2025-04-11.zip\n"
          ]
        }
      ]
    },
    {
      "cell_type": "markdown",
      "source": [
        "## Delete Outputs"
      ],
      "metadata": {
        "id": "E9q8G9C6aVap"
      }
    },
    {
      "cell_type": "code",
      "source": [
        "!rm -r /content/DeFooocus/outputs/*"
      ],
      "metadata": {
        "id": "jL5kluHRaVaq"
      },
      "execution_count": null,
      "outputs": []
    },
    {
      "cell_type": "markdown",
      "source": [
        "## Save DeFooocus"
      ],
      "metadata": {
        "id": "1Xi7mShgThAI"
      }
    },
    {
      "cell_type": "code",
      "source": [
        "#!cp -r /content/DeFooocus /content/drive/MyDrive\n",
        "!rsync -avh --progress /content/DeFooocus /content/drive/MyDrive"
      ],
      "metadata": {
        "id": "8UuybqXAS1WV",
        "outputId": "638d5304-395c-496e-81bd-cd0a0d59af5a",
        "colab": {
          "base_uri": "https://localhost:8080/"
        }
      },
      "execution_count": null,
      "outputs": [
        {
          "output_type": "stream",
          "name": "stdout",
          "text": [
            "sending incremental file list\n",
            "DeFooocus/config_modification_tutorial.txt\n",
            "\r          4.02K 100%    0.00kB/s    0:00:00  \r          4.02K 100%    0.00kB/s    0:00:00 (xfr#1, to-chk=921/932)\n",
            "DeFooocus/.git/\n",
            "DeFooocus/.git/FETCH_HEAD\n",
            "\r            717 100%    5.74kB/s    0:00:00  \r            717 100%    5.74kB/s    0:00:00 (xfr#2, to-chk=886/932)\n",
            "DeFooocus/.git/objects/pack/pack-42ea88845a3e44629583452d14195adcb121215c.idx\n",
            "\r         32.77K  16%  262.30kB/s    0:00:00  \r        197.88K 100%    1.39MB/s    0:00:00 (xfr#3, to-chk=851/932)\n",
            "DeFooocus/.git/objects/pack/pack-42ea88845a3e44629583452d14195adcb121215c.pack\n",
            "         49.65M 100%  115.77MB/s    0:00:00 (xfr#4, to-chk=850/932)\n",
            "DeFooocus/models/loras/\n",
            "DeFooocus/models/loras/age-mimimeter.safetensors\n",
            "         52.40M 100%   86.46MB/s    0:00:00 (xfr#5, to-chk=397/932)\n",
            "DeFooocus/outputs/\n",
            "\n",
            "sent 102.30M bytes  received 253 bytes  68.20M bytes/sec\n",
            "total size is 36.73G  speedup is 359.06\n"
          ]
        }
      ]
    }
  ],
  "metadata": {
    "accelerator": "GPU",
    "colab": {
      "gpuType": "L4",
      "provenance": [],
      "include_colab_link": true
    },
    "kernelspec": {
      "display_name": "Python 3",
      "name": "python3"
    },
    "language_info": {
      "name": "python"
    }
  },
  "nbformat": 4,
  "nbformat_minor": 0
}